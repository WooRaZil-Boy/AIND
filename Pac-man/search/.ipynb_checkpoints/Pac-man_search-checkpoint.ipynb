{
 "cells": [
  {
   "cell_type": "markdown",
   "metadata": {},
   "source": [
    "## RandomSearch"
   ]
  },
  {
   "cell_type": "code",
   "execution_count": null,
   "metadata": {
    "collapsed": true
   },
   "outputs": [],
   "source": [
    "def RandomSearch(problem):\n",
    "    import random as rd\n",
    "\n",
    "    return_list = []\n",
    "    state = problem.getStartState()\n",
    "\n",
    "    while True:\n",
    "        if problem.isGoalState(state):\n",
    "            break\n",
    "        else:            \n",
    "            successor = rd.choice(problem.getSuccessors(state))\n",
    "            state = successor[0]\n",
    "            return_list.append(successor[1])\n",
    "\n",
    "    return return_list"
   ]
  },
  {
   "cell_type": "markdown",
   "metadata": {},
   "source": [
    "## Search\n",
    "\n",
    "자료 구조만 다르고, 구현하는 검색의 알고리즘은 모두 동일하다."
   ]
  },
  {
   "cell_type": "markdown",
   "metadata": {},
   "source": [
    "![pacman_search_0.png](images/pacman_search_0.png)\n",
    "\n",
    "![pacman_search_1.png](images/pacman_search_1.png)"
   ]
  },
  {
   "cell_type": "code",
   "execution_count": null,
   "metadata": {
    "collapsed": true
   },
   "outputs": [],
   "source": [
    "def graphSearch(problem, frontier):\n",
    "    frontier.push((problem.getStartState(), [])) #자료 구조에 첫 state와 path 저장\n",
    "    explored = [] #이미 탐험한 위치들\n",
    "\n",
    "    while True:\n",
    "        if frontier.isEmpty():\n",
    "            return False\n",
    "\n",
    "        state, paths = frontier.pop() #frontier에서 제거하면서 현재 state를 가져온다.\n",
    "\n",
    "        if problem.isGoalState(state): #목적지에 도달했으면 actions를 반환하며 종료\n",
    "            return paths\n",
    "\n",
    "        if state not in explored: #탐험하지 않았던 state이라면 추가\n",
    "            explored.append(state)\n",
    "\n",
    "            for successor in problem.getSuccessors(state): #하위 노드들을 찾아 loop\n",
    "                if successor[0] not in explored:\n",
    "                    next_paths = paths + [successor[1]] #다음 action을 이미 있는 actions에 추가한다.\n",
    "                    frontier.push((successor[0], next_paths)) #저장"
   ]
  },
  {
   "cell_type": "markdown",
   "metadata": {},
   "source": [
    "## depthFirstSearch"
   ]
  },
  {
   "cell_type": "code",
   "execution_count": null,
   "metadata": {
    "collapsed": true
   },
   "outputs": [],
   "source": [
    "def depthFirstSearch(problem):\n",
    "    \"\"\"\n",
    "    Search the deepest nodes in the search tree first.\n",
    "\n",
    "    Your search algorithm needs to return a list of actions that reaches the\n",
    "    goal. Make sure to implement a graph search algorithm.\n",
    "\n",
    "    To get started, you might want to try some of these simple commands to\n",
    "    understand the search problem that is being passed in:\n",
    "\n",
    "    print \"Start:\", problem.getStartState()\n",
    "    print \"Is the start a goal?\", problem.isGoalState(problem.getStartState())\n",
    "    print \"Start's successors:\", problem.getSuccessors(problem.getStartState())\n",
    "    \"\"\"\n",
    "    \"*** YOUR CODE HERE ***\"\n",
    "\n",
    "    frontier = util.Stack() #스택.\n",
    "    #스택을 사용했으므로 항상 최신의 state가 반환되고, 그 노드의 depth를 타고 내려가게 된다.\n",
    "    #만약 첫째 노드의 depth를 타고 내려가 답을 찾지 못했으면(Frontier나 explored에 존재하는 경우) 다음 노드로 넘어간다.\n",
    "    #그 경우, stack에서 하나씩 빼서 계산했으므로 다시 첫번째 상태의 노드 분기로 돌아가게 된다.\n",
    "    return graphSearch(problem, frontier)"
   ]
  },
  {
   "cell_type": "markdown",
   "metadata": {},
   "source": [
    "## breadthFirstSearch"
   ]
  },
  {
   "cell_type": "code",
   "execution_count": null,
   "metadata": {
    "collapsed": true
   },
   "outputs": [],
   "source": [
    "def breadthFirstSearch(problem):\n",
    "    \"\"\"Search the shallowest nodes in the search tree first.\"\"\"\n",
    "    \"*** YOUR CODE HERE ***\"\n",
    "    \n",
    "    frontier = util.PriorityQueueWithFunction(lambda (state, actions): len(actions)) #우선 순위 큐. 우선순위가 높은 것을 먼저 반환\n",
    "    #여기선 actions가 하나씩 더해지는 구조이므로 actions의 길이가 level이 된다.\n",
    "    #우선순위 큐의 우선순위 함수가 actions의 길이이므로 너비에 따른 값을 계산 한 후 다음 depth로 넘어가게 된다.\n",
    "    return graphSearch(problem, frontier)"
   ]
  },
  {
   "cell_type": "markdown",
   "metadata": {},
   "source": [
    "## uniformCostSearch\n",
    "\n",
    "유령이 많이 출몰하는 곳은 코스트가 높게 설정되어 피해가도록 만들어 줄 수 있다. 코스트가 적은 쪽을 먼저 탐색한다."
   ]
  },
  {
   "cell_type": "code",
   "execution_count": null,
   "metadata": {
    "collapsed": true
   },
   "outputs": [],
   "source": [
    "def uniformCostSearch(problem):\n",
    "    \"\"\"Search the node of least total cost first.\"\"\"\n",
    "    \"*** YOUR CODE HERE ***\"\n",
    "\n",
    "    frontier = util.PriorityQueueWithFunction(lambda (state, actions): problem.getCostOfActions(actions)) #우선 순위 큐. 우선순위가 높은 것을 먼저 반환\n",
    "    #breadthFirstSearch는 비용이 level인 uniformCostSearch.\n",
    "    #비용함수만 다를 뿐 breadthFirstSearce와 구현이 완전 동일하다.\n",
    "    #우선순위 큐의 우선순위 함수가 cost이므로 각 상황별로 cost가 최소인 것을 먼저 탐색한다.\n",
    "    return graphSearch(problem, frontier)"
   ]
  },
  {
   "cell_type": "markdown",
   "metadata": {},
   "source": [
    "## aStarSearch"
   ]
  },
  {
   "cell_type": "code",
   "execution_count": null,
   "metadata": {
    "collapsed": true
   },
   "outputs": [],
   "source": [
    "def aStarSearch(problem, heuristic=nullHeuristic):\n",
    "    \"\"\"Search the node that has the lowest combined cost and heuristic first.\"\"\"\n",
    "    \"*** YOUR CODE HERE ***\"\n",
    "    \n",
    "    frontier = util.PriorityQueueWithFunction(lambda (state, actions): problem.getCostOfActions(actions) + heuristic(state, problem)) #우선 순위 큐. 우선순위가 높은 것을 먼저 반환\n",
    "    #aStarSearchs도 uniformCostSearch의 한 종류.\n",
    "    #비용함수만 다를 뿐 breadthFirstSearce와 구현이 완전 동일하다.\n",
    "    #우선순위 큐의 우선순위 함수가 cost이므로 각 상황별로 cost가 최소인 것을 먼저 탐색한다.\n",
    "    return graphSearch(problem, frontier)"
   ]
  }
 ],
 "metadata": {
  "kernelspec": {
   "display_name": "Python 3",
   "language": "python",
   "name": "python3"
  },
  "language_info": {
   "codemirror_mode": {
    "name": "ipython",
    "version": 3
   },
   "file_extension": ".py",
   "mimetype": "text/x-python",
   "name": "python",
   "nbconvert_exporter": "python",
   "pygments_lexer": "ipython3",
   "version": "3.6.1"
  }
 },
 "nbformat": 4,
 "nbformat_minor": 2
}
