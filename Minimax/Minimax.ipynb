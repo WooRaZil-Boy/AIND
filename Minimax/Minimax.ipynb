{
 "cells": [
  {
   "cell_type": "markdown",
   "metadata": {},
   "source": [
    "# Artificial Intelligence Nanodegree\n",
    "## Introduction to Game Playing\n",
    "----"
   ]
  },
  {
   "cell_type": "markdown",
   "metadata": {},
   "source": [
    "## Minmax values\n",
    "\n",
    "![minimax_1.png](images/minimax_1.png)\n",
    "\n",
    "서로가 번갈아 가면서 두는 게임이기 때문에 최상단 레이어가 값이 Max가 되는 행동을 하면, 다음 레이어에서 상대방은 Min이 되는 행동을 하게 된다."
   ]
  },
  {
   "cell_type": "markdown",
   "metadata": {},
   "source": [
    "## Game State Representation"
   ]
  },
  {
   "cell_type": "code",
   "execution_count": 1,
   "metadata": {
    "collapsed": true
   },
   "outputs": [],
   "source": [
    "from copy import deepcopy\n",
    "\n",
    "xlim, ylim = 3, 2  # board dimensions\n",
    "\n",
    "class GameState:\n",
    "    \"\"\"\n",
    "    Attributes\n",
    "    ----------\n",
    "    _board: list(list)\n",
    "        Represent the board with a 2d array _board[x][y]\n",
    "        where open spaces are 0 and closed spaces are 1\n",
    "    \n",
    "    _parity: bool\n",
    "        Keep track of active player initiative (which\n",
    "        player has control to move) where 0 indicates that\n",
    "        player one has initiative and 1 indicates player 2\n",
    "    \n",
    "    _player_locations: list(tuple)\n",
    "        Keep track of the current location of each player\n",
    "        on the board where position is encoded by the\n",
    "        board indices of their last move, e.g., [(0, 0), (1, 0)]\n",
    "        means player 1 is at (0, 0) and player 2 is at (1, 0)\n",
    "    \n",
    "    \"\"\"\n",
    "\n",
    "    def __init__(self):\n",
    "        self._board = [[0] * ylim for _ in range(xlim)] #Numpy 아닌 일반 Python 배열에서는 곱셉하면 그 수 만큼 같은 수로 들어간다.\n",
    "        self._board[-1][-1] = 1 # block lower-right corner #우 하단 막기.\n",
    "        self._parity = 0 #순서. 처음 시작이므로 플레이어 0의 차례.\n",
    "        self._player_locations = [None, None] #각 플레이어의 현재 위치. 처음 시작이므로 아직 None.\n",
    "    \n",
    "    def forecast_move(self, move):\n",
    "        \"\"\" \n",
    "        Return a new board object with the specified move\n",
    "        applied to the current game state.\n",
    "        \n",
    "        Parameters\n",
    "        ----------\n",
    "        move: tuple\n",
    "            The target position for the active player's next move\n",
    "        \"\"\"\n",
    "        #move를 적용해 현재 게임 상태를 반환한다.\n",
    "        if move not in self.get_legal_moves(): #움직일 수 있는 리스트에 move가 없으면 에러.\n",
    "            raise RuntimeError(\"Attempted forecast of illegal move\")\n",
    "            \n",
    "        newBoard = deepcopy(self) #deepcopy를 사용하면 다른 메모리를 가지기 때문에 요소가 바뀌어도 원본에 영향을 끼치지 않는다.\n",
    "        #일반적으로 메모리 사용량을 줄이기 위해 bitBoard를 사용한다.\n",
    "        newBoard._board[move[0]][move[1]] = 1 #주어진 move 좌표의 값을 1로 바꿔 사용된 것으로 한다.\n",
    "        newBoard._player_locations[self._parity] = move #현재 플레이어의 위치를 move로 바뀌준다.\n",
    "        newBoard._parity ^= 1 #xor. 0이면 1, 1이면 0이 된다. 다음 플레이어 턴으로 설정.\n",
    "        \n",
    "        return newBoard\n",
    "    \n",
    "    def get_legal_moves(self):\n",
    "        \"\"\" \n",
    "        Return a list of all legal moves available to the\n",
    "        active player.  Each player should get a list of all\n",
    "        empty spaces on the board on their first move, and\n",
    "        otherwise they should get a list of all open spaces\n",
    "        in a straight line along any row, column or diagonal\n",
    "        from their current position. (Players CANNOT move\n",
    "        through obstacles or blocked squares.) Moves should\n",
    "        be a pair of integers in (column, row) order specifying\n",
    "        the zero-indexed coordinates on the board.\n",
    "        \"\"\"\n",
    "        #움직일 수 있는 모든 목록 반환\n",
    "        loc = self._player_locations[self._parity] #현재 플레이어의 위치를 가져온다.\n",
    "        if not loc: #현재 플레이어 위치가 없다면 (처음의 경우)\n",
    "            return self._get_blank_spaces() #빈 공간을 반환(2번째 플레이어라도 첫 플레이어가 둔 첫 수 외 모든 위치가 가능하기 때문에)\n",
    "        \n",
    "        moves = []\n",
    "        rays = [(1, 0), (1, -1), (0, -1), (-1, -1),\n",
    "                (-1, 0), (-1, 1), (0, 1), (1, 1)] #한 칸 이동할 수 있는 경우의 수. →↘↓↙ ←↖↑↗\n",
    "        \n",
    "        for dx, dy in rays:\n",
    "            _x, _y = loc\n",
    "            while 0 <= _x + dx < xlim and 0 <= _y + dy < ylim: #현재 위치에서 주어진 ray 대로 이동할 수 있는 경우 (limit 이내)\n",
    "                _x, _y = _x + dx, _y + dy #ray대로 한 칸 이동\n",
    "                if self._board[_x][_y]: #이동한 위치가 1이라면(이미 사용됐던 위치라면) \n",
    "                    break #종료 후 다음 ray로 넘어간다.(for)\n",
    "                moves.append((_x, _y)) #이동한 위치가 0이라면(사용 가능하다면), moves에 추가하고 같은 방향으로 한 칸 더 이동 가능한지 점검(while)\n",
    "        \n",
    "        return moves\n",
    "    \n",
    "    def _get_blank_spaces(self):\n",
    "        \"\"\" Return a list of blank spaces on the board.\"\"\"\n",
    "        #빈 공간을 반환한다.\n",
    "        return [(x, y) for y in range(ylim) for x in range(xlim)\n",
    "                if self._board[x][y] == 0] #0으로 되어 있는 경우. 빈 공간"
   ]
  },
  {
   "cell_type": "code",
   "execution_count": 2,
   "metadata": {},
   "outputs": [
    {
     "name": "stdout",
     "output_type": "stream",
     "text": [
      "Creating empty game board...\n",
      "Getting legal moves for player 1...\n",
      "Found 5 legal moves.\n",
      "Applying move (0, 0) for player 1...\n",
      "Getting legal moves for player 2...\n",
      "Everything looks good!\n"
     ]
    }
   ],
   "source": [
    "print(\"Creating empty game board...\")\n",
    "g = GameState()\n",
    "\n",
    "print(\"Getting legal moves for player 1...\")\n",
    "p1_empty_moves = g.get_legal_moves()\n",
    "print(\"Found {} legal moves.\".format(len(p1_empty_moves or [])))\n",
    "\n",
    "print(\"Applying move (0, 0) for player 1...\")\n",
    "g1 = g.forecast_move((0, 0))\n",
    "\n",
    "print(\"Getting legal moves for player 2...\")\n",
    "p2_empty_moves = g1.get_legal_moves()\n",
    "if (0, 0) in set(p2_empty_moves):\n",
    "    print(\"Failed\\n  Uh oh! (0, 0) was not blocked properly when \" +\n",
    "          \"player 1 moved there.\")\n",
    "else:\n",
    "    print(\"Everything looks good!\")"
   ]
  },
  {
   "cell_type": "markdown",
   "metadata": {},
   "source": [
    "## Implementing the Minimax Algorithm\n",
    "Assumption 1: a state is terminal if the active player has no remaining moves     \n",
    "Assumption 2: the board utility is -1 if it terminates at a max level, and +1 if it terminates at a min level"
   ]
  },
  {
   "cell_type": "code",
   "execution_count": 3,
   "metadata": {
    "collapsed": true
   },
   "outputs": [],
   "source": [
    "#1. 움직일 수 있는 나머지 공간이 없다면 종료\n",
    "#2. Max레벨에서 종료되면 -1, Min레벨에서 종료되면 1\n",
    "\n",
    "def terminal_test(gameState):\n",
    "    \"\"\" \n",
    "    Return True if the game is over for the active player\n",
    "    and False otherwise.\n",
    "    \"\"\"\n",
    "    return not bool(gameState.get_legal_moves()) # by Assumption 1\n",
    "    #게임이 더 진행 될 수 있으면 False, 아니면 True.\n",
    "\n",
    "def min_value(gameState): #상대방의 턴. 상대방은 결과가 최소(상대방 승리)가 되는 값(-1)을 찾아야 한다.\n",
    "    \"\"\" \n",
    "    Return the value for a win (+1) if the game is over,\n",
    "    otherwise return the minimum value over all legal child\n",
    "    nodes.\n",
    "    \"\"\"\n",
    "    if terminal_test(gameState): #게임이 종료되는 조건. min_value를 찾아야 하는 레이어(상대방의 턴)에서 게임이 종료되면 1\n",
    "        return 1 # by Assumption 2\n",
    "    \n",
    "    v = float(\"inf\") #무한. 어떤 값보다 크다. #import math test = math.inf\n",
    "    for m in gameState.get_legal_moves(): #움직일 수 있는 나머지 모든 위치를 가져온다.\n",
    "        v = min(v, max_value(gameState.forecast_move(m))) #각 위치의 Max값을 가져와 비교. 최소값이 남게 된다.\n",
    "        #다음 레이어(자신의 턴)에서 최대값. 이번 레이어(상대방 턴)에서 최소값.\n",
    "        \n",
    "    return v\n",
    "\n",
    "def max_value(gameState): #자신의 턴. 자신은 결과가 최대(자신 승리)가 되는 값(1)을 찾아야 한다.\n",
    "    \"\"\" \n",
    "    Return the value for a loss (-1) if the game is over,\n",
    "    otherwise return the maximum value over all legal child\n",
    "    nodes.\n",
    "    \"\"\"\n",
    "    if terminal_test(gameState): #게임이 종료되는 조건. max_value를 찾아야 하는 레이어(자신의 턴)에서 게임이 종료되면 -1\n",
    "        return -1 # by Assumption 2\n",
    "    \n",
    "    v = float(\"-inf\") #-무한. 어떤 값보다 작다.\n",
    "    for m in gameState.get_legal_moves(): #움직일 수 있는 나머지 위치를 가져온다.\n",
    "        v = max(v, min_value(gameState.forecast_move(m))) #각 위치의 Min값을 가져와 비교. 최대값이 남게 된다.\n",
    "        #다음 레이어(상대방 턴)에서 최소값. 이번 레이어(자신의 턴)에서 최대값.\n",
    "        \n",
    "    return v\n",
    "\n",
    "##### 위의 그림 참조 해서 볼 것. Min 레이어 - Max 레이어."
   ]
  },
  {
   "cell_type": "code",
   "execution_count": 4,
   "metadata": {},
   "outputs": [
    {
     "name": "stdout",
     "output_type": "stream",
     "text": [
      "Calling min_value on an empty board...\n",
      "min_value() returned the expected score!\n"
     ]
    }
   ],
   "source": [
    "g = GameState()\n",
    "\n",
    "print(\"Calling min_value on an empty board...\")\n",
    "v = min_value(g)\n",
    "\n",
    "if v == -1:\n",
    "    print(\"min_value() returned the expected score!\") #빈 보드라면 min_value == -1, max_value == 1이 되어야 한다.\n",
    "else:\n",
    "    print(\"Uh oh! min_value() did not return the expected score.\")"
   ]
  },
  {
   "cell_type": "markdown",
   "metadata": {
    "collapsed": true
   },
   "source": [
    "## Implement"
   ]
  },
  {
   "cell_type": "code",
   "execution_count": 5,
   "metadata": {
    "collapsed": true
   },
   "outputs": [],
   "source": [
    "def minimax_decision(gameState):\n",
    "    \"\"\" \n",
    "    Return the move along a branch of the game tree that\n",
    "    has the best possible value.  A move is a pair of coordinates\n",
    "    in (column, row) order corresponding to a legal move for\n",
    "    the searching player.\n",
    "    \n",
    "    You can ignore the special case of calling this function\n",
    "    from a terminal state.\n",
    "    \"\"\"\n",
    "    best_score = float(\"-inf\") \n",
    "    best_move = None\n",
    "    \n",
    "    for m in gameState.get_legal_moves(): #이동할 수 있는 모든 곳 중에서\n",
    "        v = min_value(gameState.forecast_move(m)) #max가 되는 값을 찾아야 하므로 다음 레이어의 min_value를 찾아야 한다.\n",
    "        if v > best_score:\n",
    "            best_score = v\n",
    "            best_move = m\n",
    "            \n",
    "    return best_move"
   ]
  },
  {
   "cell_type": "code",
   "execution_count": 6,
   "metadata": {},
   "outputs": [
    {
     "name": "stdout",
     "output_type": "stream",
     "text": [
      "Best move choices: [(0, 1), (2, 0), (0, 0)]\n",
      "Your code chose: (0, 0)\n",
      "That's one of the best move choices. Looks like your minimax-decision function worked!\n"
     ]
    }
   ],
   "source": [
    "best_moves = set([(0, 0), (2, 0), (0, 1)])\n",
    "rootNode = GameState()\n",
    "minimax_move = minimax_decision(rootNode)\n",
    "\n",
    "print(\"Best move choices: {}\".format(list(best_moves)))\n",
    "print(\"Your code chose: {}\".format(minimax_move))\n",
    "\n",
    "if minimax_move in best_moves:\n",
    "    print(\"That's one of the best move choices. Looks like your minimax-decision function worked!\")\n",
    "else:\n",
    "    print(\"Uh oh...looks like there may be a problem.\")"
   ]
  },
  {
   "cell_type": "code",
   "execution_count": 7,
   "metadata": {
    "collapsed": true
   },
   "outputs": [],
   "source": [
    "#같은 값을 반환하지만, lambda와 max() 활용\n",
    "\n",
    "# This solution does the same thing using the built-in `max` function\n",
    "# Note that \"lambda\" expressions are Python's version of anonymous functions\n",
    "def minimax_decision(gameState):\n",
    "    \"\"\" \n",
    "    Return the move along a branch of the game tree that\n",
    "    has the best possible value.  A move is a pair of coordinates\n",
    "    in (column, row) order corresponding to a legal move for\n",
    "    the searching player.\n",
    "    \n",
    "    You can ignore the special case of calling this function\n",
    "    from a terminal state.\n",
    "    \"\"\"\n",
    "    # The built in `max()` function can be used as argmax!\n",
    "    return max(gameState.get_legal_moves(),\n",
    "               key=lambda m: min_value(gameState.forecast_move(m)))"
   ]
  },
  {
   "cell_type": "markdown",
   "metadata": {},
   "source": [
    "## Evaluation Function"
   ]
  },
  {
   "cell_type": "markdown",
   "metadata": {},
   "source": [
    "![minimax_2.png](images/minimax_2.png)\n",
    "\n",
    "현실적으로는 너무 많은 노드들이 있어 일일히 전부 경우의 수를 계산할 수 없다. 모델의 계산 수를 줄이기 위해서 위의 그림에서 마지막 노드에서는 플레이어(O)가 움직일 수 있는 공간의 수를 계산한다. 그 뒤로는 위의 Min Max대로 계산한다. 하지만 이 경우에는 레이어 층을 몇 개까지 계산할 것인지에 따라 결정이 달라질 수 있다. 위의 트리에서 Level2까지의 계산과 Level3까지의 계산은 그 결과가 달라 다른 결정을 하게 된다."
   ]
  }
 ],
 "metadata": {
  "kernelspec": {
   "display_name": "Python 3",
   "language": "python",
   "name": "python3"
  },
  "language_info": {
   "codemirror_mode": {
    "name": "ipython",
    "version": 3
   },
   "file_extension": ".py",
   "mimetype": "text/x-python",
   "name": "python",
   "nbconvert_exporter": "python",
   "pygments_lexer": "ipython3",
   "version": "3.6.1"
  }
 },
 "nbformat": 4,
 "nbformat_minor": 2
}
