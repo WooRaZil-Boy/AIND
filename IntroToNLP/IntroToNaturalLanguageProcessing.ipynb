{
 "cells": [
  {
   "cell_type": "markdown",
   "metadata": {},
   "source": [
    "# Artificial Intelligence Nanodegree\n",
    "## Intro to Natural Language Processing\n",
    "----"
   ]
  },
  {
   "cell_type": "markdown",
   "metadata": {},
   "source": [
    "## Counting Words"
   ]
  },
  {
   "cell_type": "code",
   "execution_count": 1,
   "metadata": {
    "collapsed": true
   },
   "outputs": [],
   "source": [
    "input_text = \"As I was waiting, a man came out of a side room, and at a glance I was sure he must be Long John. His left leg was cut off close by the hip, and under the left shoulder he carried a crutch, which he managed with wonderful dexterity, hopping about upon it like a bird. He was very tall and strong, with a face as big as a ham—plain and pale, but intelligent and smiling. Indeed, he seemed in the most cheerful spirits, whistling as he moved about among the tables, with a merry word or a slap on the shoulder for the more favoured of his guests.\""
   ]
  },
  {
   "cell_type": "code",
   "execution_count": 2,
   "metadata": {},
   "outputs": [
    {
     "name": "stdout",
     "output_type": "stream",
     "text": [
      "{'as': 4, 'i': 2, 'was': 4, 'waiting': 1, 'a': 9, 'man': 1, 'came': 1, 'out': 1, 'of': 2, 'side': 1, 'room': 1, 'and': 5, 'at': 1, 'glance': 1, 'sure': 1, 'he': 6, 'must': 1, 'be': 1, 'long': 1, 'john': 1, 'his': 2, 'left': 2, 'leg': 1, 'cut': 1, 'off': 1, 'close': 1, 'by': 1, 'the': 6, 'hip': 1, 'under': 1, 'shoulder': 2, 'carried': 1, 'crutch': 1, 'which': 1, 'managed': 1, 'with': 3, 'wonderful': 1, 'dexterity': 1, 'hopping': 1, 'about': 2, 'upon': 1, 'it': 1, 'like': 1, 'bird': 1, 'very': 1, 'tall': 1, 'strong': 1, 'face': 1, 'big': 1, 'ham—plain': 1, 'pale': 1, 'but': 1, 'intelligent': 1, 'smiling': 1, 'indeed': 1, 'seemed': 1, 'in': 1, 'most': 1, 'cheerful': 1, 'spirits': 1, 'whistling': 1, 'moved': 1, 'among': 1, 'tables': 1, 'merry': 1, 'word': 1, 'or': 1, 'slap': 1, 'on': 1, 'for': 1, 'more': 1, 'favoured': 1, 'guests': 1}\n"
     ]
    }
   ],
   "source": [
    "\"\"\"Count words.\"\"\"\n",
    "import string\n",
    "\n",
    "def count_words(text):\n",
    "    \"\"\"Count how many times each unique word occurs in text.\"\"\"\n",
    "    counts = dict()  # dictionary of { <word>: <count> } pairs to return\n",
    "    \n",
    "    # TODO: Convert to lowercase\n",
    "    text = text.lower()\n",
    "    \n",
    "    # TODO: Split text into tokens (words), leaving out punctuation\n",
    "    # (Hint: Use regex to split on non-alphanumeric characters)\n",
    "    exclude = set(string.punctuation)\n",
    "    text = \"\".join(ch for ch in text if ch not in exclude)\n",
    "    text = text.split(\" \")\n",
    "    \n",
    "    # TODO: Aggregate word counts using a dictionary\n",
    "    for word in text:\n",
    "        if word in counts:\n",
    "            counts[word] += 1\n",
    "        else:\n",
    "            counts[word] = 1\n",
    "            \n",
    "    return counts\n",
    "\n",
    "\n",
    "def test_run():\n",
    "    with open(\"input.txt\", \"r\") as f:\n",
    "        text = f.read()\n",
    "        counts = count_words(text)\n",
    "        sorted_counts = sorted(counts.items(), key=lambda pair: pair[1], reverse=True)\n",
    "        \n",
    "        print(\"10 most common words:\\nWord\\tCount\")\n",
    "        for word, count in sorted_counts[:10]:\n",
    "            print(\"{}\\t{}\".format(word, count))\n",
    "        \n",
    "        print(\"\\n10 least common words:\\nWord\\tCount\")\n",
    "        for word, count in sorted_counts[-10:]:\n",
    "            print(\"{}\\t{}\".format(word, count))\n",
    "\n",
    "\n",
    "print(count_words(input_text))\n"
   ]
  },
  {
   "cell_type": "code",
   "execution_count": null,
   "metadata": {
    "collapsed": true
   },
   "outputs": [],
   "source": []
  }
 ],
 "metadata": {
  "kernelspec": {
   "display_name": "Python 3",
   "language": "python",
   "name": "python3"
  },
  "language_info": {
   "codemirror_mode": {
    "name": "ipython",
    "version": 3
   },
   "file_extension": ".py",
   "mimetype": "text/x-python",
   "name": "python",
   "nbconvert_exporter": "python",
   "pygments_lexer": "ipython3",
   "version": "3.6.1"
  }
 },
 "nbformat": 4,
 "nbformat_minor": 2
}
