{
 "cells": [
  {
   "cell_type": "markdown",
   "metadata": {},
   "source": [
    "# Artificial Intelligence Nanodegree\n",
    "## Long Short-Term Memory Networks (LSTM)\n",
    "----"
   ]
  },
  {
   "cell_type": "markdown",
   "metadata": {},
   "source": [
    "## RNN vs LSTM\n",
    "\n",
    "![lstm_1.png](images/lstm_1.png)"
   ]
  },
  {
   "cell_type": "markdown",
   "metadata": {},
   "source": [
    "## Basics of LSTM\n",
    "\n",
    "LSTM은 4개의 게이트로 이루어져 있다.    \n",
    "- Forget Gate : Long Term Memory를 인풋으로 한다.    \n",
    "- Learn Gate : Short Term Momory와 Event를 인풋으로 한다.\n",
    "- Remember Gate : Forget Gate와 Learn Gate를 인풋으로 하고, New Long Term Memory를 아웃풋으로 한다.\n",
    "- Use Gate : ForgetGate와 LearnGate를 인풋으로 하고 New Short Term Memory를 아웃풋으로 한다.\n",
    "\n",
    "![lstm_2.png](images/lstm_2.png)"
   ]
  },
  {
   "cell_type": "markdown",
   "metadata": {},
   "source": [
    "## Architecture of LSTM\n",
    "\n",
    "![lstm_3.png](images/lstm_3.png)"
   ]
  },
  {
   "cell_type": "markdown",
   "metadata": {},
   "source": [
    "## The Learn Gate\n",
    "\n",
    "Learn Gate에는 Combine과 Ignore가 있다.\n",
    "- Combine : Short Term Momory와 Event를 합친다.\n",
    "- Ignore : Combine에서 제외할 부분을 뺀다.\n",
    "\n",
    "![lstm_4.png](images/lstm_4.png)"
   ]
  },
  {
   "cell_type": "markdown",
   "metadata": {},
   "source": [
    "## The Forget Gate\n",
    "\n",
    "Long Term Momory에서 제외할 부분을 뺀다.\n",
    "\n",
    "![lstm_5.png](images/lstm_5.png)"
   ]
  },
  {
   "cell_type": "markdown",
   "metadata": {},
   "source": [
    "## The Remember Gate\n",
    "\n",
    "Forget Gate와 Learn Gate에서 추려낸 부분을 단순히 합친다.\n",
    "\n",
    "![lstm_6.png](images/lstm_6.png)"
   ]
  },
  {
   "cell_type": "markdown",
   "metadata": {},
   "source": [
    "## The Use Gate\n",
    "\n",
    "Output Gate라고도 한다. Forget Gate에서 output된 Long Term Momory와 Short Term Momory를 조합해 New Long Term Momory로 output한다.\n",
    "\n",
    "![lstm_7.png](images/lstm_7.png)"
   ]
  },
  {
   "cell_type": "markdown",
   "metadata": {},
   "source": [
    "## Other architectures\n",
    "\n",
    "Gated Recurrent Unit, Peephole Connections 등의 변형 LSTM도 있다."
   ]
  }
 ],
 "metadata": {
  "kernelspec": {
   "display_name": "Python 3",
   "language": "python",
   "name": "python3"
  },
  "language_info": {
   "codemirror_mode": {
    "name": "ipython",
    "version": 3
   },
   "file_extension": ".py",
   "mimetype": "text/x-python",
   "name": "python",
   "nbconvert_exporter": "python",
   "pygments_lexer": "ipython3",
   "version": "3.6.1"
  }
 },
 "nbformat": 4,
 "nbformat_minor": 2
}
