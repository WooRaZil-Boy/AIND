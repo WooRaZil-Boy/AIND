{
 "cells": [
  {
   "cell_type": "markdown",
   "metadata": {},
   "source": [
    "# Artificial Intelligence Nanodegree\n",
    "## ConstraintSatisfaction\n",
    "----\n",
    "\n",
    "제약 충족은 복수의 제약 조건을 만족하는 상태를 찾아 내는 것이다. 8퀸 문제, 4색 문제, 스도쿠 등, 전 프로젝트에서 다뤘던 많은 문제들 또한 제약 충족 문제의 유형이라 할 수 있다."
   ]
  },
  {
   "cell_type": "markdown",
   "metadata": {},
   "source": [
    "## Map Coloring & Constraint Graph\n",
    "\n",
    "가장 고전적 제약 충족 문제 중 하나는 색 칠하기 이다. 어떤 문제든 최소 4가지의 색으로 칠할 수 있다. 지도를 그래프로 전환해서 푸는 것이 일반적이다.\n",
    "\n",
    "![constraint_satisfaction_0.png](images/constraint_satisfaction_0.png)"
   ]
  },
  {
   "cell_type": "markdown",
   "metadata": {},
   "source": [
    "## Constraint Hypergraph\n",
    "\n",
    "문자 문제도 다음과 같은 그래프를 그려 풀어낼 수 있다. 각 문자는 다른 숫자를 나타내며 0 ~ 9 사이의 숫자이다.\n",
    "![constraint_satisfaction_1.png](images/constraint_satisfaction_1.png)"
   ]
  },
  {
   "cell_type": "markdown",
   "metadata": {},
   "source": [
    "## Backtracking Search\n",
    "\n",
    "주요 개념은 해를 얻을 때까지 모든 가능성을 시도한다는 점이다. 모든 가능성은 하나의 트리처럼 구성할 수 있으며, 가지 중에 해결책이 있다. 트리를 검사하기 위해 깊이 우선 탐색을 사용한다. 탐색 중에 오답을 만나면 이전 분기점으로 돌아간다. 시도해보지 않은 다른 해결 방법이 있으면 시도한다. 해결 방법이 더 없으면 더 이전의 분기점으로 돌아간다. 모든 트리의 노드를 검사해도 답을 못 찾을 경우, 이 문제의 해결책은 없는 것이다. 퇴각검색은 보통 재귀 함수로 구현된다.\n",
    "\n",
    "![constraint_satisfaction_2.png](images/constraint_satisfaction_2.png)"
   ]
  },
  {
   "cell_type": "markdown",
   "metadata": {},
   "source": [
    "## Improving Backtracking Efficiency\n",
    "\n",
    "Backtracking Efficiency를 향상시키기 위해서는 크게 두 가지 방법이 있다.\n",
    "![constraint_satisfaction_3.png](images/constraint_satisfaction_3.png)\n",
    " \n",
    "첫 번째는 Least Constraining Vlaue로 이후의 선택에서의 제약을 최소화할 수 있는 값을 선택한다.    \n",
    "두 번재는 Minimum Remain Value로 가장 적은 선택지가 남아있는 값을 우선적으로 선택한다."
   ]
  },
  {
   "cell_type": "markdown",
   "metadata": {},
   "source": [
    "## Backtracking Optimization Quiz\n",
    "\n",
    "![constraint_satisfaction_4.png](images/constraint_satisfaction_4.png)\n",
    "\n",
    "왼쪽 주는 선택지가 다른 주에 비해 줄어들었으므로 Minimum Remain Value를 적용할 수 있다.    \n",
    "오른쪽 주는 Least Constraining Vlaue를 적용해 초록색을 선택할 수 있다. 꼭 이 오른쪽 주뿐만 아니라 위쪽의 경계에 있는 주에도 Least Constraining Vlaue를 적용할 수 있다."
   ]
  },
  {
   "cell_type": "markdown",
   "metadata": {},
   "source": [
    "## Forward Checking\n",
    "\n",
    "![constraint_satisfaction_5.png](images/constraint_satisfaction_5.png)\n",
    "\n",
    "현재 상태를 업데이트할 때마다 다른 요소들도 업데이트를 해준다."
   ]
  },
  {
   "cell_type": "markdown",
   "metadata": {},
   "source": [
    "## Constraint Propagation and Arc Consistency\n",
    "\n",
    "제약은 전파될 수 있다. 소거법으로 불가능한 경우의 수를 지워간다. 예를 들어 인접한 주의 색에 따라 경우의 수가 줄어들거나 색이 결정될 수 있다.\n",
    "\n",
    "![constraint_satisfaction_6.png](images/constraint_satisfaction_6.png)\n",
    "\n",
    "Arc Consistency은 Forward Checking 이후에 전파된 조건들로 불가능한 경우의 수를 지우는 것이다.\n",
    "https://www.youtube.com/watch?v=knGQZgywDEU\n",
    "\n",
    "모든 요소가 가능한 경우가 한 개 이상 있는 경우, 네트워크는 Arc Consistent하다고 한다.\n",
    "\n",
    "![constraint_satisfaction_7.png](images/constraint_satisfaction_7.png)\n",
    "\n",
    "위의 네트워크 경우 좌측 최상단에 가능한 경우가 없으므로 Arc Consistent하지 않다. (하지만 forward checking과 Arc Consistency에 오류가 있는 경우 임)"
   ]
  },
  {
   "cell_type": "markdown",
   "metadata": {},
   "source": [
    "## Structured CSPs\n",
    "\n",
    "문제의 구조를 바꾸는 것으로 간결하게 만들 수 있다. 80개의 이진 변수 문제가 있으면, 이것을 20개씩 4개로 나눠서 생각하는 것이 더 빠르다. $2^{80}$이던 시간이 $4 \\times 2^{20}$으로 줄어든다. $O(d^n)$이던 시간이 $O((n/c) * (d^c))$으로 준다.\n",
    "\n",
    "![constraint_satisfaction_8.png](images/constraint_satisfaction_8.png)\n",
    "\n",
    "루프가 없는 경우, $O(nd)$로 더 간결하게 만들 수 있다. 트리에서의 부모 자식 관계를 일렬로 정렬한 뒤, 루트에서 부터 밑으로 하나씩 선택해 끝날 때까지 간다. 가능한 제약과 트리가 일치하지 않으므로 문제를 풀 수 있다.\n",
    "\n",
    "- j를 n에서 2로 감소시키면서 j의 부모노드와 j노드의 제약을 제거한다.\n",
    "- j를 1에서 n으로 증가시키면서 j의 부모노드의 consistency에 맞춰 j노드를 할당한다.\n",
    "\n",
    "![constraint_satisfaction_9.png](images/constraint_satisfaction_9.png)\n",
    "\n",
    "트리 구조가 아닌 경우에도, 일부에 값을 할당하고 트리로 변경해서 문제를 풀 수 있다.\n",
    "\n",
    "![constraint_satisfaction_10.png](images/constraint_satisfaction_10.png)\n",
    "\n",
    "위의 경우 초기에는 그래프이지만, SA에 값을 할당하면 그와 연결된 가치를 쳐내 트리구조로 만들 수 있다.    \n",
    "(SA에 오렌지 색을 할당하면 연결된 노드들은 오렌지가 될 수 없으므로 오렌지를 사용하지 않는 트리로 변환할 수 있다.)"
   ]
  },
  {
   "cell_type": "markdown",
   "metadata": {},
   "source": [
    "## Iterative Algorithms\n",
    "\n",
    "8-Queen 문제도 변수에 값을 무작위로 할당하고 답을 찾을 때까지 반복해서 문제를 해결할 수 있다. 이런 반복적인 알고리즘은 답이 아주 많거나, 매우 적을 때 잘 작동한다. "
   ]
  },
  {
   "cell_type": "markdown",
   "metadata": {},
   "source": [
    "## Challenge Question Revisited\n",
    "\n",
    "여기서 사각형은 제약 조건들을 나타낸다. 맨 위의 사각형은 모든 문자가 다른 수를 나타내야 된다는 조건을 의미한다.\n",
    "\n",
    "![constraint_satisfaction_10.png](images/constraint_satisfaction_11.png)\n",
    "\n",
    "제약 조건들은 다음과 같다.\n",
    "\n",
    "- alldiff (F, T, U, W, R, O)\n",
    "- O + O = R + 10 * X1\n",
    "- W + W + X1 = U + 10 * X2\n",
    "- T + T + X2 = O + 10 * X3\n",
    "- F = X3\n",
    "\n",
    "X1, X2, X3는 각각 10의 자리, 100의 자리, 1000의 자리의 올림수를 의미한다. \n",
    "\n",
    "Least Constraining Vlaue와 Minimum Remain Value로 제약을 전파하고 소거해 나가면 F = X3 = 1이 된다(0이 될 수 없으므로). 이런식으로 X1, X2, X3에 제약 조건을 전파해 가면서 맞는 답을 찾아낸다."
   ]
  }
 ],
 "metadata": {
  "kernelspec": {
   "display_name": "Python 3",
   "language": "python",
   "name": "python3"
  },
  "language_info": {
   "codemirror_mode": {
    "name": "ipython",
    "version": 3
   },
   "file_extension": ".py",
   "mimetype": "text/x-python",
   "name": "python",
   "nbconvert_exporter": "python",
   "pygments_lexer": "ipython3",
   "version": "3.6.0"
  }
 },
 "nbformat": 4,
 "nbformat_minor": 2
}
