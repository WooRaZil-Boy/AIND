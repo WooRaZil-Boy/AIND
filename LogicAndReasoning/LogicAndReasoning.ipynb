{
 "cells": [
  {
   "cell_type": "markdown",
   "metadata": {},
   "source": [
    "# Artificial Intelligence Nanodegree\n",
    "## Logic And Reasoning\n",
    "----"
   ]
  },
  {
   "cell_type": "markdown",
   "metadata": {},
   "source": [
    "## Truth Tables\n",
    "\n",
    "![logicAndReasoning_0.png](images/logicAndReasoning_0.png)\n",
    "\n",
    "- $P \\Rightarrow Q$ : 필요조건을 나타낸다. 'P이면 Q이다.'에서 Q는 P이기위한 필요 조건이라 한다. P가 참이면 Q도 참이다. P가 Q에 포함되는 개념이다. (ex) P=자연수, Q=실수. '자연수이면 실수이다.' 모든 자연수는 실수이다. 하지만 어떤 수가 실수라고 해서 그 수가 반드시 자연수인 것은 아니다. 반대로 생각하면 어떤 수가 실수가 아니라면 이 수는 절대로 자연수가 될 수 없다. 다시 말해 어떤 수가 자연수가 되기 위해서는 그 수가 먼저 실수일 필요가 있는 것이다. 따라서 '어떤 수가 실수이다'라는 조건은 어떤 수가 자연수이기 위한 필요조건이 된다.    \n",
    "- $P \\Leftrightarrow Q$ : 필요충분 조건을 나타낸다. 'P이면 Q이고, Q이면 P이다.'에서 P는 Q의 필요충분조건이며, Q도 역시 P의 필요충분조건이라 한다. P가 참이면 Q도 참이며, P가 거짓이면 Q도 거짓이다. 반대로 Q가 참이면 P도 참이며, Q가 거짓이면 P도 거짓이다. 그래서, 이 때의 P와 Q를 동치라고도 한다.\n",
    "\n",
    "[위키백과](https://ko.wikipedia.org/wiki/%ED%95%84%EC%9A%94%EC%B6%A9%EB%B6%84%EC%A1%B0%EA%B1%B4)"
   ]
  },
  {
   "cell_type": "markdown",
   "metadata": {},
   "source": [
    "## Terminology\n",
    "\n",
    "- Valid : True in every possible model\n",
    "- Satisfiable : True in some model"
   ]
  },
  {
   "cell_type": "markdown",
   "metadata": {},
   "source": [
    "## First Order Logic\n",
    "\n",
    "문장의 주어가 개별 개체 (individual object) 일 때 일차 술어논리(first order predicate logic) 을 사용한다고 한다. 예를들면 \"Socrates is  mortal (소크라테스는 죽는다)\" 과 같은 경우이다. 반면에  주어가 또다른 술어로 구성되어 있을 때 우리는 second order logic 또는 higher order logic을 사용한다고 말한다. 예들들면 \"Being mortal is tragic (죽는다는 것은 비극이다)\" 에서 Being mortal 과 같은 경우이다. [출저](http://www.aistudy.co.kr/logic/first_order_logic.htm)\n",
    "\n",
    "일차논리(First Order Logic/FOL)는 '대상(object)'에 대한 양화로 명제를 분석하는 논리입니다.\n",
    "이차논리(Second Order Logic/SOL)는 일차논리처럼 대상에 대한 양화뿐만 아니라 '개념(concept)/속성(property)'에 대한 양화까지 포함하는 논리입니다.\n",
    "[출저](http://imnt.tistory.com/56)\n",
    "\n",
    "1차 논리에서 객체들에 관한 기능들에 관한 관계가 있고 그 관계는 True/False/Unknown으로 구분된다(Terminology에서 처럼). 구조화 된 표현 인 개별 상태는 변수 값 집합 일뿐만 아니라 객체 간의 관계, 분기 구조 및 한 객체와 다른 객체 사이의 복잡한 표현 및 관계를 포함 할 수 있고, 이는 전형적인 프로그래밍 언어나 데이터베이스 쿼리에서 사용된다. "
   ]
  },
  {
   "cell_type": "markdown",
   "metadata": {},
   "source": [
    "## Models\n",
    "\n",
    "![LogicAndReasoning_1.png](images/LogicAndReasoning_1.png)\n",
    "\n",
    "상수와 함수 등을 설정한다. 상수와 객체 사이에 일대일 대응 할 필요 없다. 따라서 동일한 객체를 참조하는 두 개의 다른 상수 이름이 있을 수 있다. 여기서 CEE라는 상수는 $C_3$를 가리킨다. \n",
    "\n",
    "**모든 모델은 최소 하나의 객체를 가져야 한다.**"
   ]
  },
  {
   "cell_type": "markdown",
   "metadata": {},
   "source": [
    "## Syntax\n",
    "\n",
    "![LogicAndReasoning_2.png](images/LogicAndReasoning_2.png)\n",
    "\n",
    "위의 Model 참고.\n",
    "\n",
    "- 존재양화사(existential quantifier) ∃(turned E) : 'there is at least one x'(x는 변수)로 정의되며, 한글로는 '적어도 한개가 존재한다' 혹은 '존재한다'로 해석된다. ex) ∃x : x가 존재한다/적어도 하나의 x가 존재한다. ∃xFx : F를 만족하는 x가 존재한다\n",
    "- 보편양화사(universal quantifier) ∀(turned A) : ∀는 'for all'이라고 정의되며, '모든 ~에 대하여'라고 해석된다. ex) ∀x : 모든 x에 대하여. ∀xFx : 모든 x가 F를 만족한다/F를 만족하는 모든 x(에 대하여)    \n",
    "[출저](http://imnt.tistory.com/23)"
   ]
  },
  {
   "cell_type": "markdown",
   "metadata": {},
   "source": [
    "## Vacuum World\n",
    "\n",
    "![LogicAndReasoning_3.png](images/LogicAndReasoning_3.png)\n",
    "\n",
    "이 환경을 장소를 A(좌), B(우), V(청소기), 더러운지 여부를 D1(좌), D2(우)의 상수와 Function들로 정의 할 수 있다.\n",
    "\n",
    "마지막은 고차원 논리."
   ]
  }
 ],
 "metadata": {
  "kernelspec": {
   "display_name": "Python 3",
   "language": "python",
   "name": "python3"
  },
  "language_info": {
   "codemirror_mode": {
    "name": "ipython",
    "version": 3
   },
   "file_extension": ".py",
   "mimetype": "text/x-python",
   "name": "python",
   "nbconvert_exporter": "python",
   "pygments_lexer": "ipython3",
   "version": "3.6.0"
  }
 },
 "nbformat": 4,
 "nbformat_minor": 2
}
