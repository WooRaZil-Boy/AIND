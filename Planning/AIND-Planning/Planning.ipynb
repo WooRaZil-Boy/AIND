{
 "cells": [
  {
   "cell_type": "markdown",
   "metadata": {},
   "source": [
    "## Part 1 - Planning problems"
   ]
  },
  {
   "cell_type": "markdown",
   "metadata": {},
   "source": [
    "**load_actions** in AirCargoProblem.get_actions method (my_air_cargo_problems.py)"
   ]
  },
  {
   "cell_type": "code",
   "execution_count": null,
   "metadata": {
    "collapsed": true
   },
   "outputs": [],
   "source": [
    "def load_actions():\n",
    "    \"\"\"\n",
    "    Create all concrete Load actions and return a list\n",
    "\n",
    "    :return: list of Action objects\n",
    "    \"\"\"\n",
    "    loads = []\n",
    "    # TODO create all load ground actions from the domain Load action\n",
    "    # Action(Load(c, p, a),\n",
    "    #\tPRECOND: At(c, a) ∧ At(p, a) ∧ Cargo(c) ∧ Plane(p) ∧ Airport(a) \n",
    "    #     전제조건 : C는 A에 있다. P는 A에 있다. C, P, A가 존재한다.\n",
    "    #\tEFFECT: ¬ At(c, a) ∧ In(c, p)) \n",
    "    #     결과 : C(수화물)은 A(공항)에 없고 P(비행기)에 있게 된다.\n",
    "\n",
    "    for c in self.cargos: #수화물\n",
    "        for p in self.planes: #비행기\n",
    "            for a in self.airports: #공항. 각 루프에서 필요한 요소들을 가져온다.\n",
    "                precond_pos = [expr(\"At({}, {})\".format(c, a)),\n",
    "                               expr(\"At({}, {})\".format(p, a))] #positive 전제조건 리스트\n",
    "                precond_neg = [] #negative 전제조건 리스트\n",
    "                effect_add = [expr(\"In({}, {})\".format(c, p))] #positive 결과 리스트\n",
    "                effect_rem = [expr(\"At({}, {})\".format(c, a))] #negative 결과 리스트\n",
    "                load = Action(expr(\"Load({}, {}, {})\".format(c, p, a)),\n",
    "                              [precond_pos, precond_neg],\n",
    "                              [effect_add, effect_rem]) #LOAD(c, p, a)\n",
    "                loads.append(load)\n",
    "                \n",
    "    return loads"
   ]
  },
  {
   "cell_type": "markdown",
   "metadata": {},
   "source": [
    "**unload_actions** in AirCargoProblem.get_actions method (my_air_cargo_problems.py)"
   ]
  },
  {
   "cell_type": "code",
   "execution_count": null,
   "metadata": {
    "collapsed": true
   },
   "outputs": [],
   "source": [
    "def unload_actions():\n",
    "    \"\"\"\n",
    "    Create all concrete Unload actions and return a list\n",
    "\n",
    "    :return: list of Action objects\n",
    "    \"\"\"\n",
    "    unloads = []\n",
    "    # TODO create all Unload ground actions from the domain Unload action\n",
    "    # Action(Unload(c, p, a),\n",
    "    #\tPRECOND: In(c, p) ∧ At(p, a) ∧ Cargo(c) ∧ Plane(p) ∧ Airport(a)\n",
    "    #     전제조건 : C는 P에 있다. P는 A에 있다. C, P, A가 존재한다.\n",
    "    #\tEFFECT: At(c, a) ∧ ¬ In(c, p))\n",
    "    #     결과 : C(수화물)은 A(공항)에 있고 P(비행기)에 없게 된다.\n",
    "\n",
    "    for c in self.cargos: #수화물\n",
    "        for p in self.planes: #비행기\n",
    "            for a in self.airports: #공항. 각 루프에서 필요한 것들을 가져온다.\n",
    "                precond_pos = [expr(\"In({}, {})\".format(c, p)),\n",
    "                               expr(\"At({}, {})\".format(p, a))] #positive 전제조건 리스트\n",
    "                precond_neg = [] #negative 전제조건 리스트\n",
    "                effect_add = [expr(\"At({}, {})\".format(c, a))] #positive 결과 리스트\n",
    "                effect_rem = [expr(\"In({}, {})\".format(c, p))] #negative 결과 리스트\n",
    "                unload = Action(expr(\"Unload({}, {}, {})\".format(c, p, a)),\n",
    "                    [precond_pos, precond_neg],\n",
    "                    [effect_add, effect_rem]) #Unload(c, p, a)\n",
    "                unloads.append(unload)\n",
    "                \n",
    "    return unloads"
   ]
  },
  {
   "cell_type": "markdown",
   "metadata": {},
   "source": [
    "**AirCargoProblem.actions** (my_air_cargo_problems.py)"
   ]
  },
  {
   "cell_type": "code",
   "execution_count": null,
   "metadata": {
    "collapsed": true
   },
   "outputs": [],
   "source": [
    "def actions(self, state: str) -> list: #Python 3 부터 파라미터의 자료형과 반환형을 지정해 줄 수 있다(Swift 처럼). \n",
    "    #하지만 일치하지 않아도 에러를 발생시키지는 않는다. 일종의 주석이라 보면 될 듯.\n",
    "    \"\"\" \n",
    "    Return the actions that can be executed in the given state.\n",
    "\n",
    "    :param state: str\n",
    "        state represented as T/F string of mapped fluents (state variables)\n",
    "        e.g. 'FTTTFF'\n",
    "    :return: list of Action objects\n",
    "    \"\"\"\n",
    "    # TODO implement\n",
    "    possible_actions = [] #반환 리스트\n",
    "    kb = PropKB() #명제논리를 위한 로직 중 하나.\n",
    "    kb.tell(decode_state(state, self.state_map).pos_sentence()) #sentence's clauses 추가\n",
    "    for action in self.actions_list:\n",
    "        is_possible = True\n",
    "        for clause in action.precond_pos: #positive 전제조건\n",
    "            if clause not in kb.clauses: #postive가 없으면 False\n",
    "                is_possible = False\n",
    "        for clause in action.precond_neg: #negative 전제조건\n",
    "            if clause in kb.clauses: #negative가 있으면 Flase\n",
    "                is_possible = False\n",
    "        if is_possible: #가능한 조건이라면 추가\n",
    "            possible_actions.append(action)\n",
    "\n",
    "    return possible_actions"
   ]
  },
  {
   "cell_type": "markdown",
   "metadata": {},
   "source": [
    "**AirCargoProblem.result** (my_air_cargo_problems.py)"
   ]
  },
  {
   "cell_type": "code",
   "execution_count": null,
   "metadata": {
    "collapsed": true
   },
   "outputs": [],
   "source": [
    "def result(self, state: str, action: Action): #Python 3 부터 파라미터의 자료형과 반환형을 지정해 줄 수 있다(Swift 처럼). \n",
    "    #하지만 일치하지 않아도 에러를 발생시키지는 않는다. 일종의 주석이라 보면 될 듯.\n",
    "    \"\"\" \n",
    "    Return the state that results from executing the given\n",
    "    action in the given state. The action must be one of\n",
    "    self.actions(state).\n",
    "\n",
    "    :param state: state entering node\n",
    "    :param action: Action applied\n",
    "    :return: resulting state after action\n",
    "    \"\"\"\n",
    "    # TODO implement\n",
    "    new_state = FluentState([], [])\n",
    "    old_state = decode_state(state, self.state_map)\n",
    "    for fluent in old_state.pos: #positive oldstate가 \n",
    "        if fluent not in action.effect_rem: #negative 결과에 없다면\n",
    "            new_state.pos.append(fluent) #positive newstate에 추가\n",
    "    for fluent in action.effect_add: #positive 결과가\n",
    "        if fluent not in new_state.pos: #positive oldstate에 없다면\n",
    "            new_state.pos.append(fluent) #positive newstate에 추가\n",
    "    for fluent in old_state.neg: #negative oldstate가\n",
    "        if fluent not in action.effect_add: #positive 결과에 없다면\n",
    "            new_state.neg.append(fluent) #negative newstate에 추가\n",
    "    for fluent in action.effect_rem: #negative 결과가\n",
    "        if fluent not in new_state.neg: #negative newstate에 없다면\n",
    "            new_state.neg.append(fluent) #negative newstate에 추가\n",
    "\n",
    "    return encode_state(new_state, self.state_map)"
   ]
  },
  {
   "cell_type": "markdown",
   "metadata": {},
   "source": [
    "**air_cargo_p2** (my_air_cargo_problems.py)"
   ]
  },
  {
   "cell_type": "code",
   "execution_count": null,
   "metadata": {
    "collapsed": true
   },
   "outputs": [],
   "source": [
    "def air_cargo_p2() -> AirCargoProblem:\n",
    "    # TODO implement Problem 2 definition\n",
    "    # Init(At(C1, SFO) ∧ At(C2, JFK) ∧ At(C3, ATL)\n",
    "    # \t∧ At(P1, SFO) ∧ At(P2, JFK) ∧ At(P3, ATL)\n",
    "    # \t∧ Cargo(C1) ∧ Cargo(C2) ∧ Cargo(C3)\n",
    "    # \t∧ Plane(P1) ∧ Plane(P2) ∧ Plane(P3)\n",
    "    # \t∧ Airport(JFK) ∧ Airport(SFO) ∧ Airport(ATL))\n",
    "    # Goal(At(C1, JFK) ∧ At(C2, SFO) ∧ At(C3, SFO))\n",
    "\n",
    "    cargos = [\"C1\", \"C2\", \"C3\"]\n",
    "    planes = [\"P1\", \"P2\", \"P3\"]\n",
    "    airports = [\"JFK\", \"SFO\", \"ATL\"]\n",
    "    pos = [expr(\"At(C1, SFO)\"),\n",
    "           expr(\"At(C2, JFK)\"),\n",
    "           expr(\"At(C3, ATL)\"),\n",
    "           expr(\"At(P1, SFO)\"),\n",
    "           expr(\"At(P2, JFK)\"),\n",
    "           expr(\"At(P3, ATL)\")]\n",
    "    neg = [expr(\"At(C1, JFK)\"),\n",
    "           expr(\"At(C1, ATL)\"),\n",
    "           expr(\"In(C1, P1)\"),\n",
    "           expr(\"In(C1, P2)\"),\n",
    "           expr(\"In(C1, P3)\"),\n",
    "           expr(\"At(C2, SFO)\"),\n",
    "           expr(\"At(C2, ATL)\"),\n",
    "           expr(\"In(C2, P1)\"),\n",
    "           expr(\"In(C2, P2)\"),\n",
    "           expr(\"In(C2, P3)\"),\n",
    "           expr(\"At(C3, JFK)\"),\n",
    "           expr(\"At(C3, SFO)\"),\n",
    "           expr(\"In(C3, P1)\"),\n",
    "           expr(\"In(C3, P2)\"),\n",
    "           expr(\"In(C3, P3)\"),\n",
    "           expr(\"At(P1, JFK)\"),\n",
    "           expr(\"At(P1, ATL)\"),\n",
    "           expr(\"At(P2, SFO)\"),\n",
    "           expr(\"At(P2, ATL)\"),\n",
    "           expr(\"At(P3, JFK)\"),\n",
    "           expr(\"At(P3, SFO)\"),\n",
    "          ]\n",
    "    init = FluentState(pos, neg)\n",
    "    goal = [expr(\"At(C1, JFK)\"),\n",
    "            expr(\"At(C2, SFO)\"),\n",
    "            expr(\"At(C3, SFO)\")]\n",
    "\n",
    "    return AirCargoProblem(cargos, planes, airports, init, goal)"
   ]
  },
  {
   "cell_type": "markdown",
   "metadata": {},
   "source": [
    "**air_cargo_p3** (my_air_cargo_problems.py)"
   ]
  },
  {
   "cell_type": "code",
   "execution_count": null,
   "metadata": {
    "collapsed": true
   },
   "outputs": [],
   "source": [
    "def air_cargo_p3() -> AirCargoProblem:\n",
    "    # TODO implement Problem 3 definition\n",
    "    # Init(At(C1, SFO) ∧ At(C2, JFK) ∧ At(C3, ATL) ∧ At(C4, ORD)\n",
    "    # \t∧ At(P1, SFO) ∧ At(P2, JFK)\n",
    "    # \t∧ Cargo(C1) ∧ Cargo(C2) ∧ Cargo(C3) ∧ Cargo(C4)\n",
    "    # \t∧ Plane(P1) ∧ Plane(P2)\n",
    "    # \t∧ Airport(JFK) ∧ Airport(SFO) ∧ Airport(ATL) ∧ Airport(ORD))\n",
    "    # Goal(At(C1, JFK) ∧ At(C3, JFK) ∧ At(C2, SFO) ∧ At(C4, SFO))\n",
    "\n",
    "    cargos = [\"C1\", \"C2\", \"C3\", \"C4\"]\n",
    "    planes = [\"P1\", \"P2\"]\n",
    "    airports = [\"JFK\", \"SFO\", \"ATL\", \"ORD\"]\n",
    "    pos = [expr(\"At(C1, SFO)\"),\n",
    "           expr(\"At(C2, JFK)\"),\n",
    "           expr(\"At(C3, ATL)\"),\n",
    "           expr(\"At(C4, ORD)\"),\n",
    "           expr(\"At(P1, SFO)\"),\n",
    "           expr(\"At(P2, JFK)\")]\n",
    "    neg = [expr(\"At(C1, JFK)\"),\n",
    "           expr(\"At(C1, ATL)\"),\n",
    "           expr(\"At(C1, ORD)\"),\n",
    "           expr(\"In(C1, P1)\"),\n",
    "           expr(\"In(C1, P2)\"),\n",
    "           expr(\"At(C2, SFO)\"),\n",
    "           expr(\"At(C2, ATL)\"),\n",
    "           expr(\"At(C2, ORD)\"),\n",
    "           expr(\"In(C2, P1)\"),\n",
    "           expr(\"In(C2, P2)\"),\n",
    "           expr(\"At(C3, JFK)\"),\n",
    "           expr(\"At(C3, SFO)\"),\n",
    "           expr(\"At(C3, ORD)\"),\n",
    "           expr(\"In(C3, P1)\"),\n",
    "           expr(\"In(C3, P2)\"),\n",
    "           expr(\"At(C4, JFK)\"),\n",
    "           expr(\"At(C4, SFO)\"),\n",
    "           expr(\"At(C4, ATL)\"),\n",
    "           expr(\"In(C4, P1)\"),\n",
    "           expr(\"In(C4, P2)\"),\n",
    "           expr(\"At(P1, JFK)\"),\n",
    "           expr(\"At(P1, ATL)\"),\n",
    "           expr(\"At(P1, ORD)\"),\n",
    "           expr(\"At(P2, SFO)\"),\n",
    "           expr(\"At(P2, ATL)\"),\n",
    "           expr(\"At(P2, ORD)\"),\n",
    "          ]\n",
    "    init = FluentState(pos, neg)\n",
    "    goal = [expr(\"At(C1, JFK)\"),\n",
    "            expr(\"At(C3, JFK)\"),\n",
    "            expr(\"At(C2, SFO)\"),\n",
    "            expr(\"At(C4, SFO)\")]\n",
    "\n",
    "    return AirCargoProblem(cargos, planes, airports, init, goal)"
   ]
  },
  {
   "cell_type": "markdown",
   "metadata": {},
   "source": [
    "## Part 2 - Domain-independent heuristics"
   ]
  },
  {
   "cell_type": "markdown",
   "metadata": {},
   "source": [
    "** h_ignore_preconditions ** (my_air_cargo_problems.py)"
   ]
  },
  {
   "cell_type": "code",
   "execution_count": null,
   "metadata": {
    "collapsed": true
   },
   "outputs": [],
   "source": [
    "@lru_cache(maxsize=8192) #@는 데코레이터. 기존에 정의된 함수를 확장한다. 데코레이터 역할을 하는 함수를 직접 추가해 줄 수도 있다. \n",
    "#http://jonnung.github.io/python/2015/08/17/python-decorator/\n",
    "def h_ignore_preconditions(self, node: Node):\n",
    "    \"\"\"\n",
    "    This heuristic estimates the minimum number of actions that must be\n",
    "    carried out from the current state in order to satisfy all of the goal\n",
    "    conditions by ignoring the preconditions required for an action to be\n",
    "    executed.\n",
    "    \"\"\"\n",
    "    # TODO implement (see Russell-Norvig Ed-3 10.2.3  or Russell-Norvig Ed-2 11.2)\n",
    "    kb = PropKB()\n",
    "    kb.tell(decode_state(node.state, self.state_map).pos_sentence()) #sentence's clauses 추가\n",
    "    count = 0\n",
    "    for clause in self.goal:\n",
    "        if clause not in kb.clauses: #속해있지 않으면 증가. 현재 상태에서 수행해야할 작업 수를 계산한다. \n",
    "            count += 1\n",
    "            \n",
    "    return count"
   ]
  },
  {
   "cell_type": "markdown",
   "metadata": {},
   "source": [
    "----"
   ]
  },
  {
   "cell_type": "code",
   "execution_count": null,
   "metadata": {
    "collapsed": true
   },
   "outputs": [],
   "source": [
    "class PgNode(): #노드\n",
    "    \"\"\"\n",
    "    Base class for planning graph nodes.\n",
    "\n",
    "    includes instance sets common to both types of nodes used in a planning graph\n",
    "    parents: the set of nodes in the previous level\n",
    "    children: the set of nodes in the subsequent level\n",
    "    mutex: the set of sibling nodes that are mutually exclusive with this node\n",
    "    \"\"\"\n",
    "\n",
    "    def __init__(self):\n",
    "        self.parents = set()\n",
    "        self.children = set()\n",
    "        self.mutex = set()\n",
    "\n",
    "    def is_mutex(self, other) -> bool: #뮤텍스 판별\n",
    "        \"\"\"\n",
    "        Boolean test for mutual exclusion\n",
    "\n",
    "        :param other: PgNode\n",
    "            the other node to compare with\n",
    "        :return: bool\n",
    "            True if this node and the other are marked mutually exclusive (mutex)\n",
    "        \"\"\"\n",
    "        if other in self.mutex:\n",
    "            return True\n",
    "        return False\n",
    "\n",
    "    def show(self):\n",
    "        \"\"\"\n",
    "        helper print for debugging shows counts of parents, children, siblings\n",
    "\n",
    "        :return:\n",
    "            print only\n",
    "        \"\"\"\n",
    "        print(\"{} parents\".format(len(self.parents)))\n",
    "        print(\"{} children\".format(len(self.children)))\n",
    "        print(\"{} mutex\".format(len(self.mutex)))"
   ]
  },
  {
   "cell_type": "code",
   "execution_count": null,
   "metadata": {
    "collapsed": true
   },
   "outputs": [],
   "source": [
    "class PgNode_s(PgNode): #상태 노드\n",
    "    \"\"\"\n",
    "    A planning graph node representing a state (literal fluent) from a\n",
    "    planning problem.\n",
    "\n",
    "    Args:\n",
    "    ----------\n",
    "    symbol : str\n",
    "        A string representing a literal expression from a planning problem\n",
    "        domain.\n",
    "\n",
    "    is_pos : bool\n",
    "        Boolean flag indicating whether the literal expression is positive or\n",
    "        negative.\n",
    "    \"\"\"\n",
    "\n",
    "    def __init__(self, symbol: str, is_pos: bool):\n",
    "        \"\"\"\n",
    "        S-level Planning Graph node constructor\n",
    "\n",
    "        :param symbol: expr\n",
    "        :param is_pos: bool\n",
    "        Instance variables calculated:\n",
    "            literal: expr\n",
    "                    fluent in its literal form including negative operator if applicable\n",
    "        Instance variables inherited from PgNode:\n",
    "            parents: set of nodes connected to this node in previous A level; initially empty\n",
    "            children: set of nodes connected to this node in next A level; initially empty\n",
    "            mutex: set of sibling S-nodes that this node has mutual exclusion with; initially empty\n",
    "        \"\"\"\n",
    "        PgNode.__init__(self)\n",
    "        self.symbol = symbol\n",
    "        self.is_pos = is_pos\n",
    "        self.__hash = None\n",
    "\n",
    "    def show(self):\n",
    "        \"\"\"\n",
    "        helper print for debugging shows literal plus counts of parents,\n",
    "        children, siblings\n",
    "\n",
    "        :return:\n",
    "            print only\n",
    "        \"\"\"\n",
    "        if self.is_pos:\n",
    "            print(\"\\n*** {}\".format(self.symbol))\n",
    "        else:\n",
    "            print(\"\\n*** ~{}\".format(self.symbol))\n",
    "        PgNode.show(self)\n",
    "\n",
    "    def __eq__(self, other):\n",
    "        \"\"\"equality test for nodes - compares only the literal for equality\n",
    "\n",
    "        :param other: PgNode_s\n",
    "        :return: bool\n",
    "        \"\"\"\n",
    "        return (isinstance(other, self.__class__) and\n",
    "                self.is_pos == other.is_pos and\n",
    "                self.symbol == other.symbol)\n",
    "\n",
    "    def __hash__(self):\n",
    "        self.__hash = self.__hash or hash(self.symbol) ^ hash(self.is_pos)\n",
    "        return self.__hash"
   ]
  },
  {
   "cell_type": "code",
   "execution_count": null,
   "metadata": {
    "collapsed": true
   },
   "outputs": [],
   "source": [
    "class PgNode_a(PgNode): #Action 노드\n",
    "    \"\"\"A-type (action) Planning Graph node - inherited from PgNode \"\"\"\n",
    "\n",
    "\n",
    "    def __init__(self, action: Action): \n",
    "        \"\"\"A-level Planning Graph node constructor\n",
    "\n",
    "        :param action: Action\n",
    "            a ground action, i.e. this action cannot contain any variables\n",
    "        Instance variables calculated:\n",
    "            An A-level will always have an S-level as its parent and an S-level as its child.\n",
    "            The preconditions and effects will become the parents and children of the A-level node\n",
    "            However, when this node is created, it is not yet connected to the graph\n",
    "            prenodes: set of *possible* parent S-nodes\n",
    "            effnodes: set of *possible* child S-nodes\n",
    "            is_persistent: bool   True if this is a persistence action, i.e. a no-op action\n",
    "        Instance variables inherited from PgNode:\n",
    "            parents: set of nodes connected to this node in previous S level; initially empty\n",
    "            children: set of nodes connected to this node in next S level; initially empty\n",
    "            mutex: set of sibling A-nodes that this node has mutual exclusion with; initially empty\n",
    "        \"\"\"\n",
    "        #A 레벨은 항상 S 레벨을 상위 레벨로, S 레벨을 하위 레벨로 가진다. (두 S 레벨 사이에 A레벨이 있다.)\n",
    "        #전제조건은 A노드의 부모, 효과는 A노드의 자식이 된다. 노드 생성시에는 관계가 형성되어 있지 않으므로 뒤에 설정해 주어야 한다.        \n",
    "        PgNode.__init__(self) #부모 클래스의 생성자 호출\n",
    "        self.action = action #액션 설정\n",
    "        self.prenodes = self.precond_s_nodes() #가능한 부모 s노드 집합\n",
    "        self.effnodes = self.effect_s_nodes() #가능한 자식 s노드 집합\n",
    "        self.is_persistent = self.prenodes == self.effnodes #지속 가능 여부. 자식과 부모가 같다면 True\n",
    "        self.__hash = None\n",
    "\n",
    "    def show(self):\n",
    "        \"\"\"helper print for debugging shows action plus counts of parents, children, siblings\n",
    "\n",
    "        :return:\n",
    "            print only\n",
    "        \"\"\"\n",
    "        print(\"\\n*** {!s}\".format(self.action))\n",
    "        PgNode.show(self)\n",
    "\n",
    "    def precond_s_nodes(self):\n",
    "        \"\"\"precondition literals as S-nodes (represents possible parents for this node).\n",
    "        It is computationally expensive to call this function; it is only called by the\n",
    "        class constructor to populate the `prenodes` attribute.\n",
    "\n",
    "        :return: set of PgNode_s\n",
    "        \"\"\"\n",
    "        nodes = set()\n",
    "        for p in self.action.precond_pos:\n",
    "            nodes.add(PgNode_s(p, True))\n",
    "        for p in self.action.precond_neg:\n",
    "            nodes.add(PgNode_s(p, False))\n",
    "        return nodes\n",
    "\n",
    "    def effect_s_nodes(self):\n",
    "        \"\"\"effect literals as S-nodes (represents possible children for this node).\n",
    "        It is computationally expensive to call this function; it is only called by the\n",
    "        class constructor to populate the `effnodes` attribute.\n",
    "\n",
    "        :return: set of PgNode_s\n",
    "        \"\"\"\n",
    "        nodes = set()\n",
    "        for e in self.action.effect_add:\n",
    "            nodes.add(PgNode_s(e, True))\n",
    "        for e in self.action.effect_rem:\n",
    "            nodes.add(PgNode_s(e, False))\n",
    "        return nodes\n",
    "\n",
    "    def __eq__(self, other):\n",
    "        \"\"\"equality test for nodes - compares only the action name for equality\n",
    "\n",
    "        :param other: PgNode_a\n",
    "        :return: bool\n",
    "        \"\"\"\n",
    "        return (isinstance(other, self.__class__) and\n",
    "                self.is_persistent == other.is_persistent and\n",
    "                self.action.name == other.action.name and\n",
    "                self.action.args == other.action.args)\n",
    "\n",
    "    def __hash__(self):\n",
    "        self.__hash = self.__hash or hash(self.action.name) ^ hash(self.action.args)\n",
    "        return self.__hash"
   ]
  },
  {
   "cell_type": "code",
   "execution_count": null,
   "metadata": {
    "collapsed": true
   },
   "outputs": [],
   "source": [
    "def create_graph(self):\n",
    "    \"\"\" \n",
    "    build a Planning Graph as described in Russell-Norvig 3rd Ed 10.3 or 2nd Ed 11.4\n",
    "\n",
    "    The S0 initial level has been implemented for you.  It has no parents and includes all of\n",
    "    the literal fluents that are part of the initial state passed to the constructor.  At the start\n",
    "    of a problem planning search, this will be the same as the initial state of the problem.  However,\n",
    "    the planning graph can be built from any state in the Planning Problem\n",
    "\n",
    "    This function should only be called by the class constructor.\n",
    "\n",
    "    :return:\n",
    "        builds the graph by filling s_levels[] and a_levels[] lists with node sets for each level\n",
    "    \"\"\"\n",
    "    # the graph should only be built during class construction\n",
    "    if (len(self.s_levels) != 0) or (len(self.a_levels) != 0):\n",
    "        raise Exception(\n",
    "            'Planning Graph already created; construct a new planning graph for each new state in the planning sequence')\n",
    "\n",
    "    # initialize S0 to literals in initial state provided.\n",
    "    #상태 0을 초기화.\n",
    "    leveled = False\n",
    "    level = 0 #레벨\n",
    "    self.s_levels.append(set())  # S0 set of s_nodes - empty to start\n",
    "    # for each fluent in the initial state, add the correct literal PgNode_s\n",
    "    for literal in self.fs.pos: #positive 중에서 loop\n",
    "        self.s_levels[level].add(PgNode_s(literal, True)) #PgNode_s : state type 그래프 노드. init(symbol, is_pos)\n",
    "        #s_levels는 각 레벨(인덱스)에 PgNode_s로 추가. 위에서 set으로 설정했기에 중복이 없다.\n",
    "    for literal in self.fs.neg: #negative 중에서 loop\n",
    "        self.s_levels[level].add(PgNode_s(literal, False)) #PgNode_s : state type 그래프 노드. init(symbol, is_pos)\n",
    "        #s_levels는 각 레벨(인덱스)에 PgNode_s로 추가. 위에서 set으로 설정했기에 중복이 없다.\n",
    "    # no mutexes at the first level\n",
    "    #첫 레벨에서는 뮤텍스가 없다. 뮤텍스 : 함께 표시될 수 없는 리터럴\n",
    "\n",
    "    # continue to build the graph alternating A, S levels until last two S levels contain the same literals,\n",
    "    # i.e. until it is \"leveled\"\n",
    "    while not leveled: #planning Graph대로 레벨을 증가시키면서 액션과 상태 뮤텍스 추가.\n",
    "        self.add_action_level(level) #action 추가\n",
    "        self.update_a_mutex(self.a_levels[level]) #mutex 추가\n",
    "\n",
    "        level += 1 #레벨 증가\n",
    "        self.add_literal_level(level)\n",
    "        self.update_s_mutex(self.s_levels[level])\n",
    "\n",
    "        if self.s_levels[level] == self.s_levels[level - 1]: #이전과 상태가 같아지면 종료.\n",
    "            #상태가 같으면, 거기서 나올 수 있는 액션과 상태 뮤텍스 또한 반복되므로 종료할 수 있다.\n",
    "            leveled = True"
   ]
  },
  {
   "cell_type": "markdown",
   "metadata": {},
   "source": [
    "----\n",
    "** add_action_level ** (my_planning_graph.py)"
   ]
  },
  {
   "cell_type": "code",
   "execution_count": null,
   "metadata": {
    "collapsed": true
   },
   "outputs": [],
   "source": [
    "def add_action_level(self, level): #A 레벨 추가\n",
    "    \"\"\" \n",
    "    add an A (action) level to the Planning Graph\n",
    "\n",
    "    :param level: int\n",
    "        the level number alternates S0, A0, S1, A1, S2, .... etc the level number is also used as the\n",
    "        index for the node set lists self.a_levels[] and self.s_levels[]\n",
    "    :return:\n",
    "        adds A nodes to the current level in self.a_levels[level]\n",
    "    \"\"\"\n",
    "    # TODO add action A level to the planning graph as described in the Russell-Norvig text\n",
    "    # 1. determine what actions to add and create those PgNode_a objects\n",
    "    # 2. connect the nodes to the previous S literal level\n",
    "    # for example, the A0 level will iterate through all possible actions for the problem and add a PgNode_a to a_levels[0]\n",
    "    #   set iff all prerequisite literals for the action hold in S0.  This can be accomplished by testing\n",
    "    #   to see if a proposed PgNode_a has prenodes that are a subset of the previous S level.  Once an\n",
    "    #   action node is added, it MUST be connected to the S node instances in the appropriate s_level set.\n",
    "    \n",
    "    self.a_levels.append(set()) #초기화\n",
    "    \n",
    "    for action in self.all_actions:\n",
    "        node_a = PgNode_a(action) #PgNode_a: action type 그래프 노드\n",
    "        pre_s_level = self.s_levels[level] #상위 S 레벨 불러온다.\n",
    "        \n",
    "        if node_a.prenodes.issubset(pre_s_level): #가능한 부모노드(S) 셋이 이전 레벨 S의 서브셋이라면(prenodes는 '가능한' 부모 노드의 집합.)\n",
    "            for node_s in pre_s_level: #노드의 관계를 설정한다.\n",
    "                node_s.children.add(node_a) #S - A\n",
    "                node_a.parents.add(node_s) #A - S\n",
    "                #S - A - S의 형태로 연결되어야 하므로.\n",
    "        \n",
    "            self.a_levels[level].add(node_a) #Action 레벨 리스트에 추가(요소는 인덱스(레벨)의 셋으로 설정되어 있다.)        "
   ]
  },
  {
   "cell_type": "markdown",
   "metadata": {},
   "source": [
    "** add_literal_level ** (my_planning_graph.py)"
   ]
  },
  {
   "cell_type": "code",
   "execution_count": null,
   "metadata": {
    "collapsed": true
   },
   "outputs": [],
   "source": [
    "def add_literal_level(self, level): #S 레벨 추가\n",
    "    \"\"\" \n",
    "    add an S (literal) level to the Planning Graph\n",
    "\n",
    "    :param level: int\n",
    "        the level number alternates S0, A0, S1, A1, S2, .... etc the level number is also used as the\n",
    "        index for the node set lists self.a_levels[] and self.s_levels[]\n",
    "    :return:\n",
    "        adds S nodes to the current level in self.s_levels[level]\n",
    "    \"\"\"\n",
    "    # TODO add literal S level to the planning graph as described in the Russell-Norvig text\n",
    "    # 1. determine what literals to add\n",
    "    # 2. connect the nodes\n",
    "    # for example, every A node in the previous level has a list of S nodes in effnodes that represent the effect\n",
    "    #   produced by the action.  These literals will all be part of the new S level.  Since we are working with sets, they\n",
    "    #   may be \"added\" to the set without fear of duplication.  However, it is important to then correctly create and connect\n",
    "    #   all of the new S nodes as children of all the A nodes that could produce them, and likewise add the A nodes to the\n",
    "    #   parent sets of the S nodes\n",
    "    \n",
    "    pre_a_level = self.a_levels[level - 1] # S - A - S로 연결되어야 하므로, 이전 A 레벨을 가져와야 한다.\n",
    "    self.s_levels.append(set()) #초기화\n",
    "    \n",
    "    for node_a in pre_a_level: #이전 A 레벨의 노드들 가져오기\n",
    "        for node_s in node_a.effnodes: #해당 A노드의 자식 노드가 될 수 있는 S노드들. Effect가 된다.\n",
    "            node_s.parents.add(node_a) #S - A\n",
    "            node_a.children.add(node_s) #A - S\n",
    "            #S - A - S의 형태로 연결되어야 하므로.\n",
    "            self.s_levels[level].add(node_s) #State 레벨 리스트에 추가(요소는 인덱스(레벨)의 셋으로 설정되어 있다.)     "
   ]
  },
  {
   "cell_type": "markdown",
   "metadata": {},
   "source": [
    "** inconsistent_effects_mutex ** (my_planning_graph.py)"
   ]
  },
  {
   "cell_type": "code",
   "execution_count": null,
   "metadata": {
    "collapsed": true
   },
   "outputs": [],
   "source": [
    "def inconsistent_effects_mutex(self, node_a1: PgNode_a, node_a2: PgNode_a) -> bool:\n",
    "    \"\"\"\n",
    "    Test a pair of actions for inconsistent effects, returning True if\n",
    "    one action negates an effect of the other, and False otherwise.\n",
    "\n",
    "    HINT: The Action instance associated with an action node is accessible\n",
    "    through the PgNode_a.action attribute. See the Action class\n",
    "    documentation for details on accessing the effects and preconditions of\n",
    "    an action.\n",
    "\n",
    "    :param node_a1: PgNode_a\n",
    "    :param node_a2: PgNode_a\n",
    "    :return: bool\n",
    "    \"\"\"\n",
    "    # TODO test for Inconsistent Effects between nodes\n",
    "    \n",
    "    #Inconsistent effects: one action negates an effect of the other. \n",
    "    #For example Eat(Cake) and the persistence of Have(Cake) have inconsistent effects \n",
    "    #because they disagree on the effect Have(Cake).\n",
    "\n",
    "    for effect in node_a1.action.effect_add: #Positive 결과\n",
    "        if effect in node_a2.action.effect_rem: #Negative 결과\n",
    "            return True\n",
    "\n",
    "    for effect in node_a2.action.effect_add: #Positive 결과\n",
    "        if effect in node_a1.action.effect_rem: #Negative 결과\n",
    "            return True\n",
    "\n",
    "    return False"
   ]
  },
  {
   "cell_type": "markdown",
   "metadata": {},
   "source": [
    "** interference_mutex ** (my_planning_graph.py)"
   ]
  },
  {
   "cell_type": "code",
   "execution_count": null,
   "metadata": {
    "collapsed": true
   },
   "outputs": [],
   "source": [
    "def interference_mutex(self, node_a1: PgNode_a, node_a2: PgNode_a) -> bool:\n",
    "    \"\"\"\n",
    "    Test a pair of actions for mutual exclusion, returning True if the \n",
    "    effect of one action is the negation of a precondition of the other.\n",
    "\n",
    "    HINT: The Action instance associated with an action node is accessible\n",
    "    through the PgNode_a.action attribute. See the Action class\n",
    "    documentation for details on accessing the effects and preconditions of\n",
    "    an action.\n",
    "\n",
    "    :param node_a1: PgNode_a\n",
    "    :param node_a2: PgNode_a\n",
    "    :return: bool\n",
    "    \"\"\"\n",
    "    # TODO test for Interference between nodes\n",
    "    #Interference: one of the effects of one action is the negation of a precondition of the other. \n",
    "    #For example Eat(Cake) interferes with the persistence of Have(Cake) by negat- ing its precondition.\n",
    "    \n",
    "    for effect in node_a1.action.effect_add: #Positive 결과\n",
    "        if effect in node_a2.action.precond_neg: #Negative 전제 조건\n",
    "            return True\n",
    "            \n",
    "    for effect in node_a2.action.effect_add: #Positive 결과\n",
    "        if effect in node_a1.action.precond_neg: #Negative 전제 조건\n",
    "            return True\n",
    "        \n",
    "    for effect in node_a1.action.effect_rem: #Negative 결과\n",
    "        if effect in node_a2.action.precond_pos: #Positive 전제 조건\n",
    "            return True\n",
    "\n",
    "    for effect in node_a2.action.effect_rem:#Negative 결과\n",
    "        if effect in node_a1.action.precond_pos: #Positive 전제 조건\n",
    "            return True\n",
    "                \n",
    "    return False"
   ]
  },
  {
   "cell_type": "markdown",
   "metadata": {},
   "source": [
    "** competing_needs_mutex ** (my_planning_graph.py)"
   ]
  },
  {
   "cell_type": "code",
   "execution_count": null,
   "metadata": {
    "collapsed": true
   },
   "outputs": [],
   "source": [
    "def competing_needs_mutex(self, node_a1: PgNode_a, node_a2: PgNode_a) -> bool:\n",
    "    \"\"\"\n",
    "    Test a pair of actions for mutual exclusion, returning True if one of\n",
    "    the precondition of one action is mutex with a precondition of the\n",
    "    other action.\n",
    "\n",
    "    :param node_a1: PgNode_a\n",
    "    :param node_a2: PgNode_a\n",
    "    :return: bool\n",
    "    \"\"\"\n",
    "\n",
    "    # TODO test for Competing Needs between nodes\n",
    "    \n",
    "    #Competing needs: one of the preconditions of one action is mutually exclusive with a precondition of the other. \n",
    "    #For example, Bake(Cake) and Eat(Cake) are mutex because they compete on the value of the Have(Cake) precondition.\n",
    "    \n",
    "    for a1_precond in node_a1.parents:\n",
    "        for a2_precond in node_a2.parents:\n",
    "            if a1_precond.is_mutex(a2_precond): #뮤텍스 판별\n",
    "                return True\n",
    "            \n",
    "    return False"
   ]
  },
  {
   "cell_type": "markdown",
   "metadata": {},
   "source": [
    "** negation_mutex ** (my_planning_graph.py)"
   ]
  },
  {
   "cell_type": "code",
   "execution_count": null,
   "metadata": {
    "collapsed": true
   },
   "outputs": [],
   "source": [
    "def negation_mutex(self, node_s1: PgNode_s, node_s2: PgNode_s) -> bool:\n",
    "    \"\"\"\n",
    "    Test a pair of state literals for mutual exclusion, returning True if\n",
    "    one node is the negation of the other, and False otherwise.\n",
    "\n",
    "    HINT: Look at the PgNode_s.__eq__ defines the notion of equivalence for\n",
    "    literal expression nodes, and the class tracks whether the literal is\n",
    "    positive or negative.\n",
    "\n",
    "    :param node_s1: PgNode_s\n",
    "    :param node_s2: PgNode_s\n",
    "    :return: bool\n",
    "    \"\"\"\n",
    "    # TODO test for negation between nodes\n",
    "    return node_s1.symbol == node_s2.symbol and node_s1.is_pos != node_s2.is_pos   "
   ]
  },
  {
   "cell_type": "markdown",
   "metadata": {},
   "source": [
    "** inconsistent_support_mutex ** (my_planning_graph.py)"
   ]
  },
  {
   "cell_type": "code",
   "execution_count": null,
   "metadata": {
    "collapsed": true
   },
   "outputs": [],
   "source": [
    "def inconsistent_support_mutex(self, node_s1: PgNode_s, node_s2: PgNode_s):\n",
    "    \"\"\"\n",
    "    Test a pair of state literals for mutual exclusion, returning True if\n",
    "    there are no actions that could achieve the two literals at the same\n",
    "    time, and False otherwise.  In other words, the two literal nodes are\n",
    "    mutex if all of the actions that could achieve the first literal node\n",
    "    are pairwise mutually exclusive with all of the actions that could\n",
    "    achieve the second literal node.\n",
    "\n",
    "    HINT: The PgNode.is_mutex method can be used to test whether two nodes\n",
    "    are mutually exclusive.\n",
    "\n",
    "    :param node_s1: PgNode_s\n",
    "    :param node_s2: PgNode_s\n",
    "    :return: bool\n",
    "    \"\"\"\n",
    "    # TODO test for Inconsistent Support between nodes\n",
    "    for s1_action in node_s1.parents:\n",
    "        for s2_action in node_s2.parents:\n",
    "            if not s1_action.is_mutex(s2_action):\n",
    "                return False\n",
    "\n",
    "    return True"
   ]
  },
  {
   "cell_type": "markdown",
   "metadata": {},
   "source": [
    "** h_levelsum ** (my_planning_graph.py)"
   ]
  },
  {
   "cell_type": "code",
   "execution_count": null,
   "metadata": {
    "collapsed": true
   },
   "outputs": [],
   "source": [
    "def h_levelsum(self) -> int:\n",
    "    \"\"\"\n",
    "    The sum of the level costs of the individual goals (admissible if goals independent)\n",
    "\n",
    "    :return: int\n",
    "    \"\"\"\n",
    "    level_sum = 0\n",
    "    # TODO implement\n",
    "    # for each goal in the problem, determine the level cost, then add them together\n",
    "    goals = self.problem.goal\n",
    "    s_levels = self.s_levels\n",
    "    for goal in goals:\n",
    "        node = PgNode_s(goal, True)\n",
    "        s_levels_list = enumerate(s_levels)\n",
    "        for level, s_nodes in s_levels_list:\n",
    "            if node in s_nodes:\n",
    "                level_sum += level\n",
    "                break\n",
    "    return level_sum"
   ]
  }
 ],
 "metadata": {
  "kernelspec": {
   "display_name": "Python 3",
   "language": "python",
   "name": "python3"
  },
  "language_info": {
   "codemirror_mode": {
    "name": "ipython",
    "version": 3
   },
   "file_extension": ".py",
   "mimetype": "text/x-python",
   "name": "python",
   "nbconvert_exporter": "python",
   "pygments_lexer": "ipython3",
   "version": "3.6.0"
  }
 },
 "nbformat": 4,
 "nbformat_minor": 2
}
