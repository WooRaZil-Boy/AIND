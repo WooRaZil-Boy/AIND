{
 "cells": [
  {
   "cell_type": "markdown",
   "metadata": {},
   "source": [
    "# Artificial Intelligence Nanodegree\n",
    "## SimulatedAnnealing\n",
    "----\n",
    "Simulated Annealing은 NP(다항시간 내에 문제에 대한 최적해를 구할 수 없는 모든 문제) 문제를 해결하기 위해 사용한다. NP의 반대는 P로 Big-O Notation으로 표현하는 O(N log N)과 같은 방식으로 문제 해결에 걸리는 시간을 표현할 수 있는 문제들을 말한다.\n",
    "\n",
    "NP 문제의 예로는 Traveling Salesman Problem(순회판매원 문제), N-Queen 등이 있다.\n",
    "\n",
    "Local Max나 Min에 빠지지 않고 Global Max나 Min을 찾는 과정. Simulated Annealing은 아주 어려운 문제를 풀기 위해 점진적으로 그 해(solution)에 가까운 방향으로 이동하되 적은 확률(0.05~0.5%)로 예상되는 해에 아주 먼 방향으로 이동하는 것. \n",
    "\n",
    "[참고](http://sens.tistory.com/404)\n",
    "\n",
    "![SimulatedAnnealing_0.png](images/SimulatedAnnealing_0.png)"
   ]
  },
  {
   "cell_type": "markdown",
   "metadata": {},
   "source": [
    "## Hill Climbing\n",
    "\n",
    "![SimulatedAnnealing_2.png](images/SimulatedAnnealing_2.png)"
   ]
  },
  {
   "cell_type": "markdown",
   "metadata": {},
   "source": [
    "## Hill Climbing Quiz\n",
    "\n",
    "시작점에서 더 큰 양의 기울기 방향으로 이동해서 기울기가 0이하가 될 때까지 반복해 Max값을 반환한다.\n",
    "\n",
    "![SimulatedAnnealing_1.png](images/SimulatedAnnealing_1.png)"
   ]
  },
  {
   "cell_type": "markdown",
   "metadata": {},
   "source": [
    "## Hill Climbing Quiz 2\n",
    "\n",
    "2번째 경우 무한루프를 돌게 된다.\n",
    "\n",
    "![SimulatedAnnealing_3.png](images/SimulatedAnnealing_3.png)"
   ]
  },
  {
   "cell_type": "markdown",
   "metadata": {},
   "source": [
    "## Simulated Annealing\n",
    "  \n",
    "&emsp;__for__ _t_ = 1 __to__ &infin;  __do__  \n",
    "&emsp;&emsp;&emsp;_T_ &larr; _schedule(t)_  \n",
    "&emsp;&emsp;&emsp;__if__ _T_ = 0 __then return__ _current_  \n",
    "&emsp;&emsp;&emsp;_next_ &larr; a randomly selected successor of _current_  \n",
    "&emsp;&emsp;&emsp;__if__ _&Delta;E_ > 0 __then__ _current_ &larr; _next_  \n",
    "&emsp;&emsp;&emsp;__else__ _current_ &larr; _next_ only with probability e<sup>_&Delta;E_/_T_</sup>\n",
    "\n",
    "**Notation**\n",
    "- T is the simulated temperature at time t, which reduces from a high value at the beginning to near zero eventually.\n",
    "- $\\Delta E$ is the change in energy going from current to next.\n",
    "\n",
    "![SimulatedAnnealing_4.png](images/SimulatedAnnealing_4.png)\n",
    "\n",
    "\n",
    "$\\Delta E$는 current에서 next로 갈 수 있는 에너지의 변화량     \n",
    "\n",
    "![SimulatedAnnealing_5.png](images/SimulatedAnnealing_5.png)\n",
    "\n",
    "위의 자연상수 그래프에서 $\\Delta E <= 0$일 때 확률 $e^{\\Delta E/T}$은     \n",
    "&emsp;$T \\to \\infty$ 이면 $\\Delta E/T \\to 0$ 이므로 $e^0$이 되어 확률 $e^{\\Delta E/T}$은 1에 수렴한다.    \n",
    "&emsp;$T \\to 0$ 이면 $\\Delta E/T \\to -\\infty$ 이므로 $e^{-\\infty}$이 되어 확률 $e^{\\Delta E/T}$은 0에 수렴한다. ($\\Delta E$가 -1, $T$가 0.01정도라 생각하면 $e^{-100}$)\n",
    "\n",
    "![SimulatedAnnealing_6.png](images/SimulatedAnnealing_6.png)\n",
    "\n",
    "**다시말해, 점진적으로 그 해(solution)에 가까운 방향으로 이동하되($\\Delta E $ > 0인 경우), 적은 확률($\\Delta E $ <= 0 인 경우 $e^{\\Delta E/T}$의 확률)로 예상되는 해에 아주 먼 방향으로 이동하는 것. ($\\Delta E $를 기울기라 생각하면 된다. plateau에서는 0)**    \n",
    "(Deep learning의 Gradient decent, Reinforcement learning의 epsilon)"
   ]
  },
  {
   "cell_type": "markdown",
   "metadata": {
    "collapsed": true
   },
   "source": [
    "## Local Beam Search"
   ]
  },
  {
   "cell_type": "markdown",
   "metadata": {},
   "source": [
    "초기에 파티클에 따라 여러 개의 상태를 생성하여 각각 다음 상태를 찾고, 최상의 n개를 선택해 목표에 도달할 때까지 반복\n",
    "\n",
    "![SimulatedAnnealing_7.png](images/SimulatedAnnealing_7.png)\n",
    "\n",
    "stochastic beam search도 기본적으로 같은 알고리즘이다. 그러나 sucessors를 선택할 때 단순 최상의 것이 아닌 확률 요소를 가미한 것. Local Max나 Min에 빠지는 것을 더 높은 확률로 방지할 수 있다."
   ]
  },
  {
   "cell_type": "markdown",
   "metadata": {},
   "source": [
    "\n",
    "## Genetic Algorithms"
   ]
  },
  {
   "cell_type": "markdown",
   "metadata": {},
   "source": [
    "![SimulatedAnnealing_8.png](images/SimulatedAnnealing_8.png)\n",
    "\n",
    "8-Queen Problem을 Genetic Algorithms으로 풀 수 있다. 각 숫자는 열의 level을 의미한다. 우선 8명의 서로 다른 퀸이 서로 공격하게 되는 경우는 8개의 원소 중 순서 상관없이 2개씩 뽑는 경우의 수 이므로 $_8C_2 = 28$ 이다. \n",
    "\n",
    "여기서 목표는 서로 공격하게 되는 경우의 수를 0으로 만드는 것이므로, 최적화 함수는 최대 공격 경우의 수인 28에서 현재 보드 상태의 각 위치의 퀸이 공격할 수 있는 경우의 수를 뺀 것이 된다. 따라서 최적화 함수의 값이 28이 되면(보드 위의 모든 퀸이 공격 할 수 없다) 조건이 달성된다. 여기서 최적화 함수의 결과 값이 클수록 그 유전자가 후대에 발현될 확률이 올라간다.\n",
    "\n",
    "<center>$f(n)$ = 28 - #*attackQueens</center>*\n",
    "\n",
    "4개의 경우를 무작위로 축출한다. 이것이 유전자 풀이 된다.\n",
    "\n",
    "![SimulatedAnnealing_9.png](images/SimulatedAnnealing_9.png)\n",
    "\n",
    "![SimulatedAnnealing_10.png](images/SimulatedAnnealing_10.png)\n",
    "\n",
    "각각의 최초 유전자의 최적화 함수 값은 위의 그림처럼 계산 하면 24, 23, 20, 11이 된다. 그리고 이 유전자들의 후대에서 발현될 비례 확률을 정규화해 구한다.      \n",
    "\n",
    "<center>각 최적화함수의 결과 값 / 전체 수($24+23+20+11 = 78$)</center>       \n",
    "\n",
    "이제 무작위로 부모 유전자를 선택해 자식 유전자를 조합한다. 100으로 정규화되었으므로 100면체 주사위를 굴려 1에서 31까지는 첫 번째 부모, 32부터 60까지는 두 번째 부모, 61부터 86까지는 세 번째 부모, 87에서 100까지는 마지막 부모의 유전자를 선택할 수 있다. 이렇게 부모 수만큼의 조합할 유전자를 선택한다.\n",
    "\n",
    "![SimulatedAnnealing_11.png](images/SimulatedAnnealing_11.png)\n",
    "\n",
    "여기서는 부모 유전자 2개를 조합해 2명의 자식들을 생성한다. \n",
    "\n",
    "![SimulatedAnnealing_12.png](images/SimulatedAnnealing_12.png)\n",
    "\n",
    "각 부모의 유전자를 조합해 자식의 유전자를 만든다. 각 유전자 순서가 교차되도록 한다. 이런 식으로 계속 유전자를 조합해 갈수록, 좋은 유전자(여기서는 서로 공격할 수 있는 경우의 수가 적은 유전자)는 후대에 발현될 확률이 높아지고, 나쁜 유전자(서로 공격할 수 있는 경우의 수가 많은 유전자)는 도태되어 발현될 확률이 줄어든다."
   ]
  },
  {
   "cell_type": "markdown",
   "metadata": {},
   "source": [
    "# GA Mutation"
   ]
  },
  {
   "cell_type": "markdown",
   "metadata": {},
   "source": [
    "하지만 위의 방법은 좋은 유전자 안에 잘못된 부분이 발현되거나, 좋지 않은 유전자 안의 좋은 부분이 발현되지 않을 확률이 있다. 그리고 처음 2세대를 조합할 때 선택되지 않은 1세대 유전자는 영원히 발현되지 못한다(위의 그림에서 1세개 4번째 유전자의 경우). 따라서 유전법칙처럼 돌연변이를 만들어 준다.\n",
    "\n",
    "![SimulatedAnnealing_13.png](images/SimulatedAnnealing_13.png)\n",
    "\n",
    "조합된 자식 유전자의 일부분을 임의로 바꿔준다. SimulatedAnnealing에서 랜덤하게 방향을 바꿔주는 것과 비슷하다."
   ]
  }
 ],
 "metadata": {
  "kernelspec": {
   "display_name": "Python 3",
   "language": "python",
   "name": "python3"
  },
  "language_info": {
   "codemirror_mode": {
    "name": "ipython",
    "version": 3
   },
   "file_extension": ".py",
   "mimetype": "text/x-python",
   "name": "python",
   "nbconvert_exporter": "python",
   "pygments_lexer": "ipython3",
   "version": "3.6.1"
  }
 },
 "nbformat": 4,
 "nbformat_minor": 2
}
