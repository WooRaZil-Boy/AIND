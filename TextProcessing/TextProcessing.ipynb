{
 "cells": [
  {
   "cell_type": "markdown",
   "metadata": {},
   "source": [
    "# Artificial Intelligence Nanodegree\n",
    "## Text Processing\n",
    "----"
   ]
  },
  {
   "cell_type": "markdown",
   "metadata": {},
   "source": [
    "## Capturing Text Data\n",
    "\n",
    "![text_1.png](images/text_1.png)"
   ]
  },
  {
   "cell_type": "markdown",
   "metadata": {},
   "source": [
    "## Quiz: Read Text Files"
   ]
  },
  {
   "cell_type": "code",
   "execution_count": 1,
   "metadata": {
    "collapsed": true
   },
   "outputs": [],
   "source": [
    "\"\"\"Reading in text files.\"\"\"\n",
    "\n",
    "import glob\n",
    "\n",
    "def read_file(filename):\n",
    "    \"\"\"Read a plain text file and return the contents as a string.\"\"\"\n",
    "    # TODO: Open \"filename\", read text and return it\n",
    "    with open(filename, \"r\") as f: #경로의 파일을 가져온다.\n",
    "        text = f.read() #string으로 저장\n",
    "        \n",
    "        return text\n",
    "\n",
    "\n",
    "def read_files(path):\n",
    "    \"\"\"Read all files that match given path and return a dict with their contents.\"\"\"\n",
    "    \n",
    "    # TODO: Get a list of all files that match path (hint: use glob)\n",
    "    all_files = glob.glob(path) #경로의 모든 파일들을 불러온다. #\"data/*.txt\"\n",
    "    \n",
    "    # TODO: Read each file using read_file()\n",
    "    \n",
    "    # TODO: Store & return a dict of the form { <filename>: <contents> }\n",
    "    # Note: <filename> is just the filename (e.g. \"hieroglyph.txt\") not the full path (\"data/hieroglyph.txt\")\n",
    "    return { file.split(\"/\")[1]: read_file(file) for file in all_files }\n",
    "\n",
    "\n",
    "def test_run():\n",
    "    # Test read_file()\n",
    "    print(read_file(\"data/hieroglyph.txt\"))\n",
    "    \n",
    "    # Test read_files()\n",
    "    texts = read_files(\"data/*.txt\")\n",
    "    for name in texts:\n",
    "        print(\"\\n***\", name, \"***\")\n",
    "        print(texts[name])"
   ]
  },
  {
   "cell_type": "markdown",
   "metadata": {},
   "source": [
    "## Summary\n",
    "\n",
    "![text_2.png](images/text_2.png)"
   ]
  },
  {
   "cell_type": "code",
   "execution_count": null,
   "metadata": {
    "collapsed": true
   },
   "outputs": [],
   "source": []
  }
 ],
 "metadata": {
  "kernelspec": {
   "display_name": "Python 3",
   "language": "python",
   "name": "python3"
  },
  "language_info": {
   "codemirror_mode": {
    "name": "ipython",
    "version": 3
   },
   "file_extension": ".py",
   "mimetype": "text/x-python",
   "name": "python",
   "nbconvert_exporter": "python",
   "pygments_lexer": "ipython3",
   "version": "3.6.1"
  }
 },
 "nbformat": 4,
 "nbformat_minor": 2
}
