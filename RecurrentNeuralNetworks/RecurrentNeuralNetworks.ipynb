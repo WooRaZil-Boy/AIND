{
 "cells": [
  {
   "cell_type": "markdown",
   "metadata": {},
   "source": [
    "# Artificial Intelligence Nanodegree\n",
    "## Recurrent Neural Networks\n",
    "----\n",
    "\n",
    "CNN은 이미지 판별 등에 주로 사용하고, RNN은 텍스트 생성, 번역 등에 주로 사용된다."
   ]
  },
  {
   "cell_type": "markdown",
   "metadata": {
    "collapsed": true
   },
   "source": [
    "# Motivating and modeling recursive sequences\n",
    "\n",
    "RNN은 순서가 있는 연속적인 데이터 분석에 주로 사용 한다(ex. 주간 날씨. 주가 예측. 문법에 맞는 텍스트 생성)."
   ]
  },
  {
   "cell_type": "markdown",
   "metadata": {},
   "source": [
    "# Ways of thinking about recursivity\n",
    "\n",
    "피보나치 수열처럼 재귀적인 함수로 나타낼 수 있다.\n",
    "\n",
    "![rnn_1.png](images/rnn_1.png)"
   ]
  },
  {
   "cell_type": "markdown",
   "metadata": {},
   "source": [
    "## Section summary\n",
    "\n",
    "![rnn_2.png](images/rnn_2.png)"
   ]
  },
  {
   "cell_type": "markdown",
   "metadata": {},
   "source": [
    "## Setting up the example\n",
    "\n",
    "![rnn_3.png](images/rnn_3.png)"
   ]
  },
  {
   "cell_type": "markdown",
   "metadata": {},
   "source": [
    "## Windowing the example sequence\n",
    "\n",
    "이전의 아웃풋이 이후의 인풋이 된다.    \n",
    "![rnn_4.png](images/rnn_4.png)"
   ]
  },
  {
   "cell_type": "markdown",
   "metadata": {},
   "source": [
    "## Setting up the second example\n",
    "\n",
    "![rnn_5.png](images/rnn_5.png)"
   ]
  },
  {
   "cell_type": "markdown",
   "metadata": {},
   "source": [
    "## Section summary\n",
    "\n",
    "![rnn_6.png](images/rnn_6.png)"
   ]
  },
  {
   "cell_type": "markdown",
   "metadata": {},
   "source": [
    "## Flaws with the FNN approach\n",
    "\n",
    "이전 좌표를 가로 축, 이후 좌표를 세로 축으로 그래프를 그리면 다음과 같이 된다(즉 (s1, s2), (s2, s3), (s3, s4)....).   \n",
    "\n",
    "i.i.d :: independent and identically distributed (독립이면서 확률분포를 따른다.)\n",
    "\n",
    "![rnn_7.png](images/rnn_7.png)"
   ]
  },
  {
   "cell_type": "markdown",
   "metadata": {},
   "source": [
    "## Formulating a Least Squares loss\n",
    "\n",
    "![rnn_8.png](images/rnn_8.png)"
   ]
  },
  {
   "cell_type": "markdown",
   "metadata": {},
   "source": [
    "## RNNs and memory\n",
    "\n",
    "RNN은 데이터가 연결되어 있기 때문에, 바로 이전 데이터에만 의존하는 것이 아니라 여러 개의 이전 데이터가 영향을 끼치도록 설계한다."
   ]
  },
  {
   "cell_type": "code",
   "execution_count": null,
   "metadata": {
    "collapsed": true
   },
   "outputs": [],
   "source": []
  }
 ],
 "metadata": {
  "kernelspec": {
   "display_name": "Python 3",
   "language": "python",
   "name": "python3"
  },
  "language_info": {
   "codemirror_mode": {
    "name": "ipython",
    "version": 3
   },
   "file_extension": ".py",
   "mimetype": "text/x-python",
   "name": "python",
   "nbconvert_exporter": "python",
   "pygments_lexer": "ipython3",
   "version": "3.6.1"
  }
 },
 "nbformat": 4,
 "nbformat_minor": 2
}
