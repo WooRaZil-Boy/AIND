{
 "cells": [
  {
   "cell_type": "markdown",
   "metadata": {},
   "source": [
    "# Artificial Intelligence Nanodegree\n",
    "## Bayes Nets\n",
    "----"
   ]
  },
  {
   "cell_type": "markdown",
   "metadata": {},
   "source": [
    "## Challenge Question\n",
    "\n",
    "![bayesnet_0.png](images/bayesnet_0.png)\n",
    "![bayesnet_1.png](images/bayesnet_1.png)\n",
    "\n",
    "벤 다이어그램 그려서 보면 나옴. P(A|B) = P(A ∩ B) / P(B)"
   ]
  },
  {
   "cell_type": "markdown",
   "metadata": {},
   "source": [
    "## Computing Bayes Rule\n",
    "\n",
    "![bayesnet_2.png](images/bayesnet_2.png)"
   ]
  },
  {
   "cell_type": "markdown",
   "metadata": {},
   "source": [
    "## Quiz: Two Test Cancer\n",
    "\n",
    "![bayesnet_3.png](images/bayesnet_3.png)"
   ]
  },
  {
   "cell_type": "markdown",
   "metadata": {},
   "source": [
    "## Quiz: Two Test Cancer 2\n",
    "\n",
    "![bayesnet_4.png](images/bayesnet_4.png)"
   ]
  },
  {
   "cell_type": "markdown",
   "metadata": {},
   "source": [
    "## Quiz: Conditional Independence 2\n",
    "\n",
    "![bayesnet_5.png](images/bayesnet_5.png)\n",
    "\n",
    "https://discussions.udacity.com/t/lesson-8-where-did-that-total-probability-equation-come-from/240163/2\n",
    "\n",
    "![bayesnet_6.png](images/bayesnet_6.png)\n",
    "\n",
    "[chain_rule](https://en.wikipedia.org/wiki/Chain_rule_(probability&#41;)\n",
    "\n",
    "Conditional independence(조건부 독립)은\n",
    "> $P( a \\mid b \\cap c ) = P( a \\mid c )$ - “c 가 주어졌을 때 a 는 b 에 대해 조건부 독립”\n",
    "\n",
    "https://youtu.be/mnUcZbT5E28?t=17m49s\n",
    "\n",
    "[전체 확률 법칙](http://blog.naver.com/PostView.nhn?blogId=mykepzzang&logNo=220834919339&parentCategoryNo=&categoryNo=38&viewDate=&isShowPopularPosts=true&from=search)"
   ]
  },
  {
   "cell_type": "markdown",
   "metadata": {},
   "source": [
    "## Quiz: Absolute And Conditional\n",
    "\n",
    "![bayesnet_7.png](images/bayesnet_7.png)"
   ]
  },
  {
   "cell_type": "markdown",
   "metadata": {},
   "source": [
    "## Quiz: Confounding Cause\n",
    "\n",
    "![bayesnet_8.png](images/bayesnet_8.png)\n",
    "\n",
    "위의 암 진단 예제와 다른 타입의 Bayes 모델(화살표 방향이 반대). 여기서는 완전히 독립이기 때문에 영향을 끼치지 않는다. (위에서는 독립이어도 반복시행했을 경우 영향을 끼치게 된다.)"
   ]
  },
  {
   "cell_type": "markdown",
   "metadata": {},
   "source": [
    "## Quiz: Explaining Away\n",
    "\n",
    "![bayesnet_9.png](images/bayesnet_9.png)\n",
    "\n",
    "> $P(H \\cap R \\cap S) = P(H \\mid R \\cap S)\\bullet P(R \\cap S)$    \n",
    " $P(A \\cap B) = P(A \\mid B)\\bullet P(B) = P(A)\\bullet P(B \\mid A)$\n",
    "\n",
    "https://math.stackexchange.com/questions/1281454/bayes-rule-with-3-variables : variable 2개 일 때도 마찬가지\n",
    "https://www.reddit.com/r/aiclass/comments/ljfsl/explanation_for_quiz_on_unit_326_explaining_away/"
   ]
  },
  {
   "cell_type": "markdown",
   "metadata": {},
   "source": [
    "## Quiz: Explaining Away 2\n",
    "\n",
    "![bayesnet_10.png](images/bayesnet_10.png)"
   ]
  },
  {
   "cell_type": "markdown",
   "metadata": {},
   "source": [
    "## Quiz: Explaining Away 3\n",
    "\n",
    "![bayesnet_11.png](images/bayesnet_11.png)\n",
    "\n",
    "https://www.youtube.com/watch?v=OZJoBK2slOA"
   ]
  },
  {
   "cell_type": "markdown",
   "metadata": {},
   "source": [
    "## Quiz: General Bayes Net\n",
    "\n",
    "![bayesnet_12.png](images/bayesnet_12.png)\n",
    "![bayesnet_13.png](images/bayesnet_13.png)"
   ]
  },
  {
   "cell_type": "markdown",
   "metadata": {},
   "source": [
    "## Quiz: General Bayes Net 2\n",
    "\n",
    "![bayesnet_14.png](images/bayesnet_14.png)"
   ]
  },
  {
   "cell_type": "markdown",
   "metadata": {},
   "source": [
    "## Quiz: General Bayes Net 3\n",
    "\n",
    "![bayesnet_15.png](images/bayesnet_15.png)"
   ]
  },
  {
   "cell_type": "markdown",
   "metadata": {},
   "source": [
    "## Quiz: D Separation\n",
    "\n",
    "![bayesnet_16.png](images/bayesnet_16.png)"
   ]
  },
  {
   "cell_type": "markdown",
   "metadata": {},
   "source": [
    "## Quiz: D Separation 2\n",
    "\n",
    "![bayesnet_17.png](images/bayesnet_17.png)"
   ]
  }
 ],
 "metadata": {
  "kernelspec": {
   "display_name": "Python 3",
   "language": "python",
   "name": "python3"
  },
  "language_info": {
   "codemirror_mode": {
    "name": "ipython",
    "version": 3
   },
   "file_extension": ".py",
   "mimetype": "text/x-python",
   "name": "python",
   "nbconvert_exporter": "python",
   "pygments_lexer": "ipython3",
   "version": "3.6.1"
  }
 },
 "nbformat": 4,
 "nbformat_minor": 2
}
