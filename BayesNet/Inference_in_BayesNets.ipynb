{
 "cells": [
  {
   "cell_type": "markdown",
   "metadata": {},
   "source": [
    "# Artificial Intelligence Nanodegree\n",
    "## Inference in Bayes Nets\n",
    "----"
   ]
  },
  {
   "cell_type": "markdown",
   "metadata": {},
   "source": [
    "## Quiz: Overview and Example\n",
    "\n",
    "![bayesnet_18.png](images/bayesnet_18.png)\n",
    "\n",
    "- Evidence : 알고 있는 사실의 노드\n",
    "- Hidden : 중간에 감춰진 노드\n",
    "- Query : 알려고 하는 노드\n",
    "\n",
    "> ex) P(S=1 | W=1) : 잔디가 젖었다는 사실을 알고, 그에 상응하는 S의 확률을 쿼리\n",
    "\n",
    "Mary가 알람을 듣고 연락 했을 경우, 강도가 침입했는지의 여부를 알고 싶은 예제.\n",
    "![bayesnet_19.png](images/bayesnet_19.png)"
   ]
  },
  {
   "cell_type": "markdown",
   "metadata": {},
   "source": [
    "## Quiz: Enumeration\n",
    "\n",
    "![bayesnet_20.png](images/bayesnet_20.png)\n",
    "\n",
    "![bayesnet_21.png](images/bayesnet_21.png)\n",
    "\n",
    "위의 예에서는 +e, +a이므로 이에 대한 값을 구하는 것. 나머지 3가지 경우에는 각각 -e, -a 등으로 달라질 수 있다."
   ]
  },
  {
   "cell_type": "markdown",
   "metadata": {},
   "source": [
    "## Quiz: Speeding Up Enumeration\n",
    "\n",
    "Enumeration은 노드가 많아질 경우 경우의 수가 너무 많아 계산하기 힘들어진다.    \n",
    "계산을 줄이는 첫 번째 방법은 Pulling out term\n",
    "![bayesnet_22.png](images/bayesnet_22.png)\n",
    "하지만 이 방법은 근본적으로 테이블 행을 줄이지는 못한다. 계산만 조금 수월해 질뿐. 다음 방법은 Maximize Independence이다.\n",
    "\n",
    "https://www.youtube.com/watch?v=mnUcZbT5E28&feature=youtu.be"
   ]
  },
  {
   "cell_type": "markdown",
   "metadata": {},
   "source": [
    "## Quiz: Variable Elimination\n",
    "\n",
    "![bayesnet_23.png](images/bayesnet_23.png)\n",
    "\n",
    "![bayesnet_24.png](images/bayesnet_24.png)\n",
    "![bayesnet_25.png](images/bayesnet_25.png)"
   ]
  },
  {
   "cell_type": "markdown",
   "metadata": {},
   "source": [
    "## Quiz: Variable Elimination 2\n",
    "\n",
    "![bayesnet_26.png](images/bayesnet_26.png)\n",
    "위의 네트워크는 P(T, L)로 요약할 수 있다."
   ]
  },
  {
   "cell_type": "markdown",
   "metadata": {},
   "source": [
    "## Quiz: Variable Elimination 3\n",
    "\n",
    "![bayesnet_27.png](images/bayesnet_27.png)\n",
    "최종 목적이 P(L)이었으므로 P(T, L) 테이블에서 그 값을 계산할 수 있다."
   ]
  },
  {
   "cell_type": "markdown",
   "metadata": {},
   "source": [
    "## Rejection Sampling\n",
    "\n",
    "Rejection Sampling을 보완. (Rejection Sampling: 원하는 경우의 확률이 낮은 경우, 계속해서 제거해야 해 비효율적). 가중치를 곱해 준다.\n",
    "![bayesnet_28.png](images/bayesnet_28.png)"
   ]
  },
  {
   "cell_type": "markdown",
   "metadata": {},
   "source": [
    "## Gibbs Sampling\n",
    "\n",
    "[Markov Chain Monte Carlo](https://ko.wikipedia.org/wiki/%EB%A7%88%EB%A5%B4%EC%BD%94%ED%94%84_%EC%97%B0%EC%87%84_%EB%AA%AC%ED%85%8C%EC%B9%B4%EB%A5%BC%EB%A1%9C_%EB%B0%A9%EB%B2%95)"
   ]
  },
  {
   "cell_type": "markdown",
   "metadata": {},
   "source": [
    "## Quiz: Monty Hall Problem\n",
    "\n",
    "[몬티 홀 문제](https://ko.wikipedia.org/wiki/%EB%AA%AC%ED%8B%B0_%ED%99%80_%EB%AC%B8%EC%A0%9C)"
   ]
  }
 ],
 "metadata": {
  "kernelspec": {
   "display_name": "Python 3",
   "language": "python",
   "name": "python3"
  },
  "language_info": {
   "codemirror_mode": {
    "name": "ipython",
    "version": 3
   },
   "file_extension": ".py",
   "mimetype": "text/x-python",
   "name": "python",
   "nbconvert_exporter": "python",
   "pygments_lexer": "ipython3",
   "version": "3.6.1"
  }
 },
 "nbformat": 4,
 "nbformat_minor": 2
}
