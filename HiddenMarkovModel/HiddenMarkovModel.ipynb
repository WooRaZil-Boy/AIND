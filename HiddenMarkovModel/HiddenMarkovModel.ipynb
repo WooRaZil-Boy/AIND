{
 "cells": [
  {
   "cell_type": "markdown",
   "metadata": {},
   "source": [
    "# Artificial Intelligence Nanodegree\n",
    "## Hidden Markov Models\n",
    "----"
   ]
  },
  {
   "cell_type": "markdown",
   "metadata": {
    "collapsed": true
   },
   "source": [
    "## HMM Challenge Question\n",
    "\n",
    "![hmm_0.png](images/hmm_0.png)\n",
    "![hmm_1.png](images/hmm_1.png)"
   ]
  },
  {
   "cell_type": "markdown",
   "metadata": {},
   "source": [
    "## HMM Representation\n",
    "\n",
    "![hmm_2.png](images/hmm_2.png)"
   ]
  },
  {
   "cell_type": "markdown",
   "metadata": {},
   "source": [
    "## Delta-y Quiz\n",
    "\n",
    "![hmm_3.png](images/hmm_3.png)"
   ]
  },
  {
   "cell_type": "markdown",
   "metadata": {},
   "source": [
    "## HMM: \"We\"\n",
    "\n",
    "![hmm_4.png](images/hmm_4.png)"
   ]
  },
  {
   "cell_type": "markdown",
   "metadata": {},
   "source": [
    "## Viterbi Trellis: \"I\" (continued)\n",
    "\n",
    "![hmm_5.png](images/hmm_5.png)"
   ]
  },
  {
   "cell_type": "markdown",
   "metadata": {},
   "source": [
    "## Viterbi Path\n",
    "\n",
    "확률과 delta y 값을 각각 구해서, 계산한 값이 가장 높은 쪽으로 선택한다.\n",
    "![hmm_6.png](images/hmm_6.png)"
   ]
  },
  {
   "cell_type": "markdown",
   "metadata": {},
   "source": [
    "## HMM Training\n",
    "\n",
    "기계적으로 나누고, 확률에 대입한 후 정규분포. 그 후 바운더리를 계산하면서 그 범위를 조절하면서 확률과 정규분포를 조정한다(평균, 표준편차)"
   ]
  }
 ],
 "metadata": {
  "kernelspec": {
   "display_name": "Python 3",
   "language": "python",
   "name": "python3"
  },
  "language_info": {
   "codemirror_mode": {
    "name": "ipython",
    "version": 3
   },
   "file_extension": ".py",
   "mimetype": "text/x-python",
   "name": "python",
   "nbconvert_exporter": "python",
   "pygments_lexer": "ipython3",
   "version": "3.6.1"
  }
 },
 "nbformat": 4,
 "nbformat_minor": 2
}
