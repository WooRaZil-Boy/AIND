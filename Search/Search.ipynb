{
 "cells": [
  {
   "cell_type": "markdown",
   "metadata": {},
   "source": [
    "# Artificial Intelligence Nanodegree\n",
    "## Search\n",
    "----"
   ]
  },
  {
   "cell_type": "markdown",
   "metadata": {},
   "source": [
    "![search_0.png](images/search_0.png)\n",
    "\n",
    "Arad에서 Bucharest까지 가는 길을 찾는다."
   ]
  },
  {
   "cell_type": "markdown",
   "metadata": {},
   "source": [
    "## Tree\n",
    "\n",
    "![search_1.png](images/search_1.png)\n",
    "\n",
    "트리로 찾는 방법은 Breadth-First, Cheapest-First, Depth-First 세 가지가 있다. 각 목적지를 Frontier와 Explored로 분류해 탐색한 목적지를 제거할 수 있다.\n",
    "\n",
    "- Breadth-First : 너비 우선. 같은 레벨인 목적지을 먼저 탐색한다.\n",
    "- Cheapest-First : 비용 우선. 비용이 가작 적은 것 부터 탐색한다.\n",
    "- Depth-First : 깊이 우선.\n",
    "\n",
    "Breadth-First, Cheapest-First는 항상 최적의 길을 찾지만 속도가 느리고, Depth-First는 최적의 길을 찾지 못할 수 있지만 속도가 빠르다. "
   ]
  },
  {
   "cell_type": "markdown",
   "metadata": {},
   "source": [
    "## Greedy best first search\n",
    "\n",
    "![search_2.png](images/search_2.png)\n",
    "\n",
    "각 도시에서 최종 목적지까지의 직선거리를 알고 있을 때, 직선거리만을 계산하여 길을 찾는 알고리즘. 그러나 배리어가 있을 경우(직선 거리는 더 멀어도 최종 목적지에는 더 빨리 갈 수 있는 길) 최적의 경우가 무시될 수 있다."
   ]
  },
  {
   "cell_type": "markdown",
   "metadata": {},
   "source": [
    "##  A* Search"
   ]
  },
  {
   "cell_type": "markdown",
   "metadata": {},
   "source": [
    "![search_3.png](images/search_3.png)\n",
    "\n",
    "목적지까지 최단 경로를 찾아내는 알고리즘 중 가장 흔히 쓰이는 알고리즘. \n",
    "\n",
    "$$\n",
    "f(n) = g(n) + h(n)\n",
    "$$\n",
    "\n",
    "- $g(n)$ : 출발 꼭짓점으로부터 꼭짓점 $n$ 까지의 경로 가중치 : 비용\n",
    "- $h(n)$ : 꼭짓점 $n$ 으로부터 목표 꼭짓점까지의 추정 경로 가중치 : 직선거리\n",
    "\n",
    "$f(n)$이 최소가 되는 경로를 찾아 검색한다.\n",
    "\n",
    "![search_4.png](images/search_4.png)\n",
    "\n",
    "- $g(n)$ : 비용 - 검은색\n",
    "- $h(n)$ : 직선거리 - 빨간 색\n",
    "\n",
    "\n",
    "검색 과정과 결과는 다음과 같다.\n",
    "![search_5.png](images/search_5.png)\n",
    "\n",
    "하지만 A\\* 알고리즘이 항상 최적의 값을 찾는 것은 아니다. $h(n)$에 따라서 달라진다.\n",
    "![search_6.png](images/search_6.png)\n",
    "\n",
    "목적지에 도착했을 때 $h(n)$ 는 0이어야 하며, 실제 코스트의 총 합이 $h(n)$보다 커야 한다."
   ]
  },
  {
   "cell_type": "markdown",
   "metadata": {},
   "source": [
    "## Sliding Blocks Puzzle\n",
    "\n",
    "A\\* 알고리즘으로 길 찾기 외 에도 다른 문제들을 풀 수 있다. 블록을 밀어 숫자를 맞추는 게임을 생각해 보자.\n",
    "\n",
    "![search_7.png](images/search_7.png)\n",
    "\n",
    "$$\n",
    "f(n) = g(n) + h(n)\n",
    "$$\n",
    "\n",
    "- $g(n)$ : 출발 꼭짓점으로부터 꼭짓점 $n$ 까지의 경로 가중치 : 처음 상태에서 움직여진 블록의 수\n",
    "- $h(n)$ : 꼭짓점 $n$ 으로부터 목표 꼭짓점까지의 추정 경로 가중치 : 현재 일치하지 않은 블록의 수\n",
    "\n",
    "$f(n)$이 최소가 되는 경로를 찾아 검색한다. [위키피디아](https://ko.wikipedia.org/wiki/A*_%EC%95%8C%EA%B3%A0%EB%A6%AC%EC%A6%98) 예제도 이 문제를 해결하는 것"
   ]
  }
 ],
 "metadata": {
  "kernelspec": {
   "display_name": "Python 3",
   "language": "python",
   "name": "python3"
  },
  "language_info": {
   "codemirror_mode": {
    "name": "ipython",
    "version": 3
   },
   "file_extension": ".py",
   "mimetype": "text/x-python",
   "name": "python",
   "nbconvert_exporter": "python",
   "pygments_lexer": "ipython3",
   "version": "3.6.0"
  }
 },
 "nbformat": 4,
 "nbformat_minor": 2
}
